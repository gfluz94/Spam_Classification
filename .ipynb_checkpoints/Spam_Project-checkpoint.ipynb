{
 "cells": [
  {
   "cell_type": "markdown",
   "metadata": {},
   "source": [
    "### SPAM Classification Problem\n",
    "\n",
    "This project seeks building a classifier to identify properly if a given text message is spam or not."
   ]
  },
  {
   "cell_type": "markdown",
   "metadata": {},
   "source": [
    "#### 1 - Importing libraries"
   ]
  },
  {
   "cell_type": "code",
   "execution_count": 65,
   "metadata": {},
   "outputs": [],
   "source": [
    "import pandas as pd\n",
    "import numpy as np\n",
    "\n",
    "import missingno as mno\n",
    "\n",
    "import spacy\n",
    "nlp = spacy.load('en_core_web_sm')\n",
    "\n",
    "import matplotlib.pyplot as plt\n",
    "%matplotlib inline\n",
    "\n",
    "import warnings\n",
    "warnings.filterwarnings('ignore')\n",
    "\n",
    "from sklearn.svm import SVC\n",
    "from sklearn.naive_bayes import GaussianNB\n",
    "from sklearn.metrics import accuracy_score, classification_report, roc_curve, precision_recall_curve, confusion_matrix, auc\n",
    "from sklearn.feature_extraction.text import TfidfVectorizer \n",
    "from sklearn.model_selection import train_test_split, GridSearchCV\n",
    "from sklearn.preprocessing import StandardScaler\n",
    "from sklearn.pipeline import Pipeline, FeatureUnion\n",
    "from sklearn.base import BaseEstimator, TransformerMixin\n",
    "\n",
    "from keras.models import Sequential\n",
    "from keras.layers import Dense"
   ]
  },
  {
   "cell_type": "markdown",
   "metadata": {},
   "source": [
    "#### 2 - Importing dataset\n",
    "\n",
    "The text messages are stores in a *csv* file named **SMSSpamCollection** at which there are two columns:\n",
    "\n",
    "+ Text\n",
    "+ Label: ham x spam"
   ]
  },
  {
   "cell_type": "code",
   "execution_count": 19,
   "metadata": {},
   "outputs": [
    {
     "data": {
      "text/html": [
       "<div>\n",
       "<style scoped>\n",
       "    .dataframe tbody tr th:only-of-type {\n",
       "        vertical-align: middle;\n",
       "    }\n",
       "\n",
       "    .dataframe tbody tr th {\n",
       "        vertical-align: top;\n",
       "    }\n",
       "\n",
       "    .dataframe thead th {\n",
       "        text-align: right;\n",
       "    }\n",
       "</style>\n",
       "<table border=\"1\" class=\"dataframe\">\n",
       "  <thead>\n",
       "    <tr style=\"text-align: right;\">\n",
       "      <th></th>\n",
       "      <th>Label</th>\n",
       "      <th>Text</th>\n",
       "    </tr>\n",
       "  </thead>\n",
       "  <tbody>\n",
       "    <tr>\n",
       "      <th>0</th>\n",
       "      <td>ham</td>\n",
       "      <td>Go until jurong point, crazy.. Available only ...</td>\n",
       "    </tr>\n",
       "    <tr>\n",
       "      <th>1</th>\n",
       "      <td>ham</td>\n",
       "      <td>Ok lar... Joking wif u oni...</td>\n",
       "    </tr>\n",
       "    <tr>\n",
       "      <th>2</th>\n",
       "      <td>spam</td>\n",
       "      <td>Free entry in 2 a wkly comp to win FA Cup fina...</td>\n",
       "    </tr>\n",
       "    <tr>\n",
       "      <th>3</th>\n",
       "      <td>ham</td>\n",
       "      <td>U dun say so early hor... U c already then say...</td>\n",
       "    </tr>\n",
       "    <tr>\n",
       "      <th>4</th>\n",
       "      <td>ham</td>\n",
       "      <td>Nah I don't think he goes to usf, he lives aro...</td>\n",
       "    </tr>\n",
       "  </tbody>\n",
       "</table>\n",
       "</div>"
      ],
      "text/plain": [
       "  Label                                               Text\n",
       "0   ham  Go until jurong point, crazy.. Available only ...\n",
       "1   ham                      Ok lar... Joking wif u oni...\n",
       "2  spam  Free entry in 2 a wkly comp to win FA Cup fina...\n",
       "3   ham  U dun say so early hor... U c already then say...\n",
       "4   ham  Nah I don't think he goes to usf, he lives aro..."
      ]
     },
     "execution_count": 19,
     "metadata": {},
     "output_type": "execute_result"
    }
   ],
   "source": [
    "data = pd.read_csv('SMSSpamCollection.csv', sep='\\t', header=None, names=['Label', 'Text'])\n",
    "data.head()"
   ]
  },
  {
   "cell_type": "markdown",
   "metadata": {},
   "source": [
    "First of all, we need to check if the data is imbalanced."
   ]
  },
  {
   "cell_type": "code",
   "execution_count": 20,
   "metadata": {},
   "outputs": [
    {
     "data": {
      "text/plain": [
       "ham     4825\n",
       "spam     747\n",
       "Name: Label, dtype: int64"
      ]
     },
     "metadata": {},
     "output_type": "display_data"
    },
    {
     "data": {
      "image/png": "[encoded data removed]",
      "text/plain": [
       "<Figure size 432x288 with 1 Axes>"
      ]
     },
     "metadata": {
      "needs_background": "light"
     },
     "output_type": "display_data"
    }
   ],
   "source": [
    "display(data.Label.value_counts())\n",
    "plt.figure(figsize=(6,4))\n",
    "data.Label.value_counts().plot(kind='bar');"
   ]
  },
  {
   "cell_type": "markdown",
   "metadata": {},
   "source": [
    "Since the data is indeed imbalanced, we look for strategies in order to avoid building a model that seeks the maximization of accuracy and always predict that a given message is not spam, since it is the majority class.\n",
    "\n",
    "In a first moment, we will try to obtain a model using different metrics, such as **recall**, __precision__ or **f1-score**. If we are not succesfull, then oversampling or undersampling strategies can be applied to this problem.\n",
    "\n",
    "Then, we may also look for missing data or blank text messages."
   ]
  },
  {
   "cell_type": "code",
   "execution_count": 21,
   "metadata": {},
   "outputs": [
    {
     "data": {
      "text/plain": [
       "(5572, 2)"
      ]
     },
     "execution_count": 21,
     "metadata": {},
     "output_type": "execute_result"
    }
   ],
   "source": [
    "data.shape"
   ]
  },
  {
   "cell_type": "code",
   "execution_count": 22,
   "metadata": {},
   "outputs": [
    {
     "data": {
      "text/plain": [
       "False    5572\n",
       "Name: Label, dtype: int64"
      ]
     },
     "execution_count": 22,
     "metadata": {},
     "output_type": "execute_result"
    }
   ],
   "source": [
    "data.Label.isnull().value_counts()"
   ]
  },
  {
   "cell_type": "code",
   "execution_count": 23,
   "metadata": {},
   "outputs": [
    {
     "data": {
      "text/plain": [
       "False    5572\n",
       "Name: Text, dtype: int64"
      ]
     },
     "execution_count": 23,
     "metadata": {},
     "output_type": "execute_result"
    }
   ],
   "source": [
    "data.Text.isnull().value_counts()"
   ]
  },
  {
   "cell_type": "code",
   "execution_count": 24,
   "metadata": {},
   "outputs": [
    {
     "data": {
      "image/png": "[encoded data removed]",
      "text/plain": [
       "<Figure size 288x288 with 2 Axes>"
      ]
     },
     "metadata": {
      "needs_background": "light"
     },
     "output_type": "display_data"
    }
   ],
   "source": [
    "mno.matrix(data, figsize=(4,4));"
   ]
  },
  {
   "cell_type": "code",
   "execution_count": 25,
   "metadata": {},
   "outputs": [
    {
     "data": {
      "text/html": [
       "<div>\n",
       "<style scoped>\n",
       "    .dataframe tbody tr th:only-of-type {\n",
       "        vertical-align: middle;\n",
       "    }\n",
       "\n",
       "    .dataframe tbody tr th {\n",
       "        vertical-align: top;\n",
       "    }\n",
       "\n",
       "    .dataframe thead th {\n",
       "        text-align: right;\n",
       "    }\n",
       "</style>\n",
       "<table border=\"1\" class=\"dataframe\">\n",
       "  <thead>\n",
       "    <tr style=\"text-align: right;\">\n",
       "      <th></th>\n",
       "      <th>Label</th>\n",
       "      <th>Text</th>\n",
       "    </tr>\n",
       "  </thead>\n",
       "  <tbody>\n",
       "  </tbody>\n",
       "</table>\n",
       "</div>"
      ],
      "text/plain": [
       "Empty DataFrame\n",
       "Columns: [Label, Text]\n",
       "Index: []"
      ]
     },
     "execution_count": 25,
     "metadata": {},
     "output_type": "execute_result"
    }
   ],
   "source": [
    "data[data.Text.str.isspace()==True]"
   ]
  },
  {
   "cell_type": "markdown",
   "metadata": {},
   "source": [
    "Then, we can conclude that there is neither missing data nor blank text that could affect negatively the quality of the algorithm."
   ]
  },
  {
   "cell_type": "markdown",
   "metadata": {},
   "source": [
    "#### 3 - Extracting Features\n",
    "\n",
    "Since it is essential to have business knowledge of a given problem in order to solve it applying machine learning algorithms, we must think about appropriate features contained in the text which could lead to a great discrimination of the available data.\n",
    "\n",
    "For instance, it is expected that spam messages contain a lot of uppercase words and especial caracters and numbers in the text. Hence, it could be a good idea to add these extra features to our model. Moreover, the message length could also be a reasonable feature, once people tend to be straight to the point when texting a message."
   ]
  },
  {
   "cell_type": "code",
   "execution_count": 26,
   "metadata": {},
   "outputs": [],
   "source": [
    "data['Length'] = data.Text.str.len()"
   ]
  },
  {
   "cell_type": "code",
   "execution_count": 27,
   "metadata": {},
   "outputs": [],
   "source": [
    "data['Non-words'] = data['Text'].apply(lambda x: nlp.tokenizer(x.lower()))\n",
    "data['Non-words'] = data['Non-words'].apply(lambda x: sum(list(map(lambda y: 0 if y.is_alpha else 1, x))))"
   ]
  },
  {
   "cell_type": "code",
   "execution_count": 28,
   "metadata": {},
   "outputs": [
    {
     "data": {
      "text/html": [
       "<div>\n",
       "<style scoped>\n",
       "    .dataframe tbody tr th:only-of-type {\n",
       "        vertical-align: middle;\n",
       "    }\n",
       "\n",
       "    .dataframe tbody tr th {\n",
       "        vertical-align: top;\n",
       "    }\n",
       "\n",
       "    .dataframe thead th {\n",
       "        text-align: right;\n",
       "    }\n",
       "</style>\n",
       "<table border=\"1\" class=\"dataframe\">\n",
       "  <thead>\n",
       "    <tr style=\"text-align: right;\">\n",
       "      <th></th>\n",
       "      <th>Label</th>\n",
       "      <th>Text</th>\n",
       "      <th>Length</th>\n",
       "      <th>Non-words</th>\n",
       "    </tr>\n",
       "  </thead>\n",
       "  <tbody>\n",
       "    <tr>\n",
       "      <th>0</th>\n",
       "      <td>ham</td>\n",
       "      <td>Go until jurong point, crazy.. Available only ...</td>\n",
       "      <td>111</td>\n",
       "      <td>4</td>\n",
       "    </tr>\n",
       "    <tr>\n",
       "      <th>1</th>\n",
       "      <td>ham</td>\n",
       "      <td>Ok lar... Joking wif u oni...</td>\n",
       "      <td>29</td>\n",
       "      <td>2</td>\n",
       "    </tr>\n",
       "    <tr>\n",
       "      <th>2</th>\n",
       "      <td>spam</td>\n",
       "      <td>Free entry in 2 a wkly comp to win FA Cup fina...</td>\n",
       "      <td>155</td>\n",
       "      <td>10</td>\n",
       "    </tr>\n",
       "    <tr>\n",
       "      <th>3</th>\n",
       "      <td>ham</td>\n",
       "      <td>U dun say so early hor... U c already then say...</td>\n",
       "      <td>49</td>\n",
       "      <td>2</td>\n",
       "    </tr>\n",
       "    <tr>\n",
       "      <th>4</th>\n",
       "      <td>ham</td>\n",
       "      <td>Nah I don't think he goes to usf, he lives aro...</td>\n",
       "      <td>61</td>\n",
       "      <td>2</td>\n",
       "    </tr>\n",
       "  </tbody>\n",
       "</table>\n",
       "</div>"
      ],
      "text/plain": [
       "  Label                                               Text  Length  Non-words\n",
       "0   ham  Go until jurong point, crazy.. Available only ...     111          4\n",
       "1   ham                      Ok lar... Joking wif u oni...      29          2\n",
       "2  spam  Free entry in 2 a wkly comp to win FA Cup fina...     155         10\n",
       "3   ham  U dun say so early hor... U c already then say...      49          2\n",
       "4   ham  Nah I don't think he goes to usf, he lives aro...      61          2"
      ]
     },
     "execution_count": 28,
     "metadata": {},
     "output_type": "execute_result"
    }
   ],
   "source": [
    "data.head()"
   ]
  },
  {
   "cell_type": "markdown",
   "metadata": {},
   "source": [
    "#### 3 - Splitting Dataset\n",
    "\n",
    "In order to train and evaluate the performance of our classifier, we need to test its predictions for labeled previously unseen data - that is, we need to train the algorithm using only a part of our dataset and testing it later with the remaining data points."
   ]
  },
  {
   "cell_type": "code",
   "execution_count": 29,
   "metadata": {},
   "outputs": [],
   "source": [
    "y = data.Label.apply(lambda x: 1 if x=='spam' else 0)\n",
    "X = data.drop(columns=['Label'])"
   ]
  },
  {
   "cell_type": "code",
   "execution_count": 30,
   "metadata": {},
   "outputs": [],
   "source": [
    "X_train, X_test, y_train, y_test = train_test_split(X, y, test_size=0.25, random_state=99)"
   ]
  },
  {
   "cell_type": "markdown",
   "metadata": {},
   "source": [
    "Since Term-Frequency Inverse Document-Frequency procedure can only be applied to text column, we need a method that can add our remaining features to the whole dataset again."
   ]
  },
  {
   "cell_type": "code",
   "execution_count": 31,
   "metadata": {},
   "outputs": [],
   "source": [
    "class ColumnSelector(BaseEstimator, TransformerMixin):\n",
    "    def __init__(self, columns):\n",
    "        self.columns = columns\n",
    "\n",
    "    def fit(self, data, labels=None):\n",
    "        return self\n",
    "\n",
    "    def transform(self, data):\n",
    "        assert isinstance(data, pd.DataFrame)\n",
    "\n",
    "        try:\n",
    "            return data[self.columns]\n",
    "        except KeyError:\n",
    "            cols_error = list(set(self.columns) - set(data.columns))\n",
    "            raise KeyError(\"The DataFrame does not include the columns: %s\" % cols_error)\n",
    "            \n",
    "class ColumnSelector_2(BaseEstimator, TransformerMixin):\n",
    "    def __init__(self, columns):\n",
    "        self.columns = columns\n",
    "\n",
    "    def fit(self, data, labels=None):\n",
    "        return self\n",
    "\n",
    "    def transform(self, data):\n",
    "        assert isinstance(data, pd.DataFrame)\n",
    "\n",
    "        try:\n",
    "            return data[[self.columns]]\n",
    "        except KeyError:\n",
    "            cols_error = list(set(self.columns) - set(data.columns))\n",
    "            raise KeyError(\"The DataFrame does not include the columns: %s\" % cols_error)"
   ]
  },
  {
   "cell_type": "markdown",
   "metadata": {},
   "source": [
    "Then, at least, it is a reasonable measure to standardize the data, in order to allow all features to be on the same scale, so the algorithm does not give different importance to a given feature. However, we pcan build a **pipeline** that takes it into account, so we can prevent data leakage when tuning the hyperparameters of the model."
   ]
  },
  {
   "cell_type": "code",
   "execution_count": 59,
   "metadata": {},
   "outputs": [],
   "source": [
    "def evaluation(model, param, X, y):\n",
    "    \n",
    "    from sklearn.model_selection import GridSearchCV\n",
    "    \n",
    "    quanti = [column for column in X.columns if X[column].dtype!='object']\n",
    "    quali = [column for column in X.columns if X[column].dtype=='object']\n",
    "    \n",
    "    numeric_transformer = Pipeline(steps=[\n",
    "        ('num_selector', ColumnSelector(columns=quanti)),\n",
    "        ('scaler', StandardScaler()),\n",
    "        ])\n",
    "    \n",
    "    categorical_transformer = Pipeline(steps=[\n",
    "        ('quali_selector', ColumnSelector(columns=quali[0])),\n",
    "        ('tfidf', TfidfVectorizer())\n",
    "        ])\n",
    "    \n",
    "    preprocessor = FeatureUnion(\n",
    "            transformer_list=[\n",
    "            ('num', numeric_transformer),\n",
    "            ('cat', categorical_transformer)\n",
    "            ])\n",
    "    \n",
    "    clf = Pipeline(steps=[('preprocessor', preprocessor),\n",
    "                      ('classifier', model)])\n",
    "    \n",
    "    grid_search = GridSearchCV(clf, param_grid=param, cv=5, n_jobs=-1, scoring='f1', iid=False)\n",
    "    grid_search.fit(X, y)\n",
    "    \n",
    "    return grid_search\n",
    "\n",
    "def results(grid_model):\n",
    "    model_params = grid_model.cv_results_['params']\n",
    "    mean_test = grid_model.cv_results_['mean_test_score']\n",
    "    std_test = grid_model.cv_results_['std_test_score']\n",
    "    \n",
    "    output = pd.DataFrame(model_params).set_index(list(model_params[0].keys()))\n",
    "    output['MEAN Validação'] = mean_test\n",
    "    output['STD Validação'] = std_test\n",
    "    \n",
    "    print('MELHORES PARÂMETROS:')\n",
    "    for parametro, valor in grid_model.best_params_.items():\n",
    "        print('--> ' + parametro + ': ' + str(valor))\n",
    "    \n",
    "    display(output)\n",
    "    \n",
    "    return"
   ]
  },
  {
   "cell_type": "markdown",
   "metadata": {},
   "source": [
    "#### 4 - Training the Models"
   ]
  },
  {
   "cell_type": "markdown",
   "metadata": {},
   "source": [
    "##### 4.1 SVM"
   ]
  },
  {
   "cell_type": "code",
   "execution_count": 61,
   "metadata": {},
   "outputs": [],
   "source": [
    "model_svm = SVC(random_state=99)\n",
    "param_svm = {'classifier__C':[0.01, 0.1, 1, 10], 'classifier__kernel':['rbf', 'linear'], \n",
    "             'classifier__gamma':[0.01, 0.1, 1, 10], 'preprocessor__cat__tfidf__max_df':[0.7,0.8,0.9],\n",
    "             'preprocessor__cat__tfidf__min_df':[2,3,4,5], 'preprocessor__cat__tfidf__ngram_range':[(1,1), (1,2), (1,3)]}\n",
    "\n",
    "grid_svm = evaluation(model_svm, param_svm, X_train, y_train)"
   ]
  },
  {
   "cell_type": "code",
   "execution_count": 63,
   "metadata": {
    "scrolled": true
   },
   "outputs": [
    {
     "name": "stdout",
     "output_type": "stream",
     "text": [
      "MELHORES PARÂMETROS:\n",
      "--> classifier__C: 10\n",
      "--> classifier__gamma: 0.1\n",
      "--> classifier__kernel: rbf\n",
      "--> preprocessor__cat__tfidf__max_df: 0.7\n",
      "--> preprocessor__cat__tfidf__min_df: 3\n",
      "--> preprocessor__cat__tfidf__ngram_range: (1, 2)\n"
     ]
    },
    {
     "data": {
      "text/html": [
       "<div>\n",
       "<style scoped>\n",
       "    .dataframe tbody tr th:only-of-type {\n",
       "        vertical-align: middle;\n",
       "    }\n",
       "\n",
       "    .dataframe tbody tr th {\n",
       "        vertical-align: top;\n",
       "    }\n",
       "\n",
       "    .dataframe thead th {\n",
       "        text-align: right;\n",
       "    }\n",
       "</style>\n",
       "<table border=\"1\" class=\"dataframe\">\n",
       "  <thead>\n",
       "    <tr style=\"text-align: right;\">\n",
       "      <th></th>\n",
       "      <th></th>\n",
       "      <th></th>\n",
       "      <th></th>\n",
       "      <th></th>\n",
       "      <th></th>\n",
       "      <th>MEAN Validação</th>\n",
       "      <th>STD Validação</th>\n",
       "    </tr>\n",
       "    <tr>\n",
       "      <th>classifier__C</th>\n",
       "      <th>classifier__gamma</th>\n",
       "      <th>classifier__kernel</th>\n",
       "      <th>preprocessor__cat__tfidf__max_df</th>\n",
       "      <th>preprocessor__cat__tfidf__min_df</th>\n",
       "      <th>preprocessor__cat__tfidf__ngram_range</th>\n",
       "      <th></th>\n",
       "      <th></th>\n",
       "    </tr>\n",
       "  </thead>\n",
       "  <tbody>\n",
       "    <tr>\n",
       "      <th rowspan=\"30\" valign=\"top\">0.01</th>\n",
       "      <th rowspan=\"30\" valign=\"top\">0.01</th>\n",
       "      <th rowspan=\"30\" valign=\"top\">rbf</th>\n",
       "      <th rowspan=\"12\" valign=\"top\">0.7</th>\n",
       "      <th rowspan=\"3\" valign=\"top\">2</th>\n",
       "      <th>(1, 1)</th>\n",
       "      <td>0.000000</td>\n",
       "      <td>0.000000</td>\n",
       "    </tr>\n",
       "    <tr>\n",
       "      <th>(1, 2)</th>\n",
       "      <td>0.000000</td>\n",
       "      <td>0.000000</td>\n",
       "    </tr>\n",
       "    <tr>\n",
       "      <th>(1, 3)</th>\n",
       "      <td>0.000000</td>\n",
       "      <td>0.000000</td>\n",
       "    </tr>\n",
       "    <tr>\n",
       "      <th rowspan=\"3\" valign=\"top\">3</th>\n",
       "      <th>(1, 1)</th>\n",
       "      <td>0.000000</td>\n",
       "      <td>0.000000</td>\n",
       "    </tr>\n",
       "    <tr>\n",
       "      <th>(1, 2)</th>\n",
       "      <td>0.000000</td>\n",
       "      <td>0.000000</td>\n",
       "    </tr>\n",
       "    <tr>\n",
       "      <th>(1, 3)</th>\n",
       "      <td>0.000000</td>\n",
       "      <td>0.000000</td>\n",
       "    </tr>\n",
       "    <tr>\n",
       "      <th rowspan=\"3\" valign=\"top\">4</th>\n",
       "      <th>(1, 1)</th>\n",
       "      <td>0.000000</td>\n",
       "      <td>0.000000</td>\n",
       "    </tr>\n",
       "    <tr>\n",
       "      <th>(1, 2)</th>\n",
       "      <td>0.000000</td>\n",
       "      <td>0.000000</td>\n",
       "    </tr>\n",
       "    <tr>\n",
       "      <th>(1, 3)</th>\n",
       "      <td>0.000000</td>\n",
       "      <td>0.000000</td>\n",
       "    </tr>\n",
       "    <tr>\n",
       "      <th rowspan=\"3\" valign=\"top\">5</th>\n",
       "      <th>(1, 1)</th>\n",
       "      <td>0.000000</td>\n",
       "      <td>0.000000</td>\n",
       "    </tr>\n",
       "    <tr>\n",
       "      <th>(1, 2)</th>\n",
       "      <td>0.000000</td>\n",
       "      <td>0.000000</td>\n",
       "    </tr>\n",
       "    <tr>\n",
       "      <th>(1, 3)</th>\n",
       "      <td>0.000000</td>\n",
       "      <td>0.000000</td>\n",
       "    </tr>\n",
       "    <tr>\n",
       "      <th rowspan=\"12\" valign=\"top\">0.8</th>\n",
       "      <th rowspan=\"3\" valign=\"top\">2</th>\n",
       "      <th>(1, 1)</th>\n",
       "      <td>0.000000</td>\n",
       "      <td>0.000000</td>\n",
       "    </tr>\n",
       "    <tr>\n",
       "      <th>(1, 2)</th>\n",
       "      <td>0.000000</td>\n",
       "      <td>0.000000</td>\n",
       "    </tr>\n",
       "    <tr>\n",
       "      <th>(1, 3)</th>\n",
       "      <td>0.000000</td>\n",
       "      <td>0.000000</td>\n",
       "    </tr>\n",
       "    <tr>\n",
       "      <th rowspan=\"3\" valign=\"top\">3</th>\n",
       "      <th>(1, 1)</th>\n",
       "      <td>0.000000</td>\n",
       "      <td>0.000000</td>\n",
       "    </tr>\n",
       "    <tr>\n",
       "      <th>(1, 2)</th>\n",
       "      <td>0.000000</td>\n",
       "      <td>0.000000</td>\n",
       "    </tr>\n",
       "    <tr>\n",
       "      <th>(1, 3)</th>\n",
       "      <td>0.000000</td>\n",
       "      <td>0.000000</td>\n",
       "    </tr>\n",
       "    <tr>\n",
       "      <th rowspan=\"3\" valign=\"top\">4</th>\n",
       "      <th>(1, 1)</th>\n",
       "      <td>0.000000</td>\n",
       "      <td>0.000000</td>\n",
       "    </tr>\n",
       "    <tr>\n",
       "      <th>(1, 2)</th>\n",
       "      <td>0.000000</td>\n",
       "      <td>0.000000</td>\n",
       "    </tr>\n",
       "    <tr>\n",
       "      <th>(1, 3)</th>\n",
       "      <td>0.000000</td>\n",
       "      <td>0.000000</td>\n",
       "    </tr>\n",
       "    <tr>\n",
       "      <th rowspan=\"3\" valign=\"top\">5</th>\n",
       "      <th>(1, 1)</th>\n",
       "      <td>0.000000</td>\n",
       "      <td>0.000000</td>\n",
       "    </tr>\n",
       "    <tr>\n",
       "      <th>(1, 2)</th>\n",
       "      <td>0.000000</td>\n",
       "      <td>0.000000</td>\n",
       "    </tr>\n",
       "    <tr>\n",
       "      <th>(1, 3)</th>\n",
       "      <td>0.000000</td>\n",
       "      <td>0.000000</td>\n",
       "    </tr>\n",
       "    <tr>\n",
       "      <th rowspan=\"6\" valign=\"top\">0.9</th>\n",
       "      <th rowspan=\"3\" valign=\"top\">2</th>\n",
       "      <th>(1, 1)</th>\n",
       "      <td>0.000000</td>\n",
       "      <td>0.000000</td>\n",
       "    </tr>\n",
       "    <tr>\n",
       "      <th>(1, 2)</th>\n",
       "      <td>0.000000</td>\n",
       "      <td>0.000000</td>\n",
       "    </tr>\n",
       "    <tr>\n",
       "      <th>(1, 3)</th>\n",
       "      <td>0.000000</td>\n",
       "      <td>0.000000</td>\n",
       "    </tr>\n",
       "    <tr>\n",
       "      <th rowspan=\"3\" valign=\"top\">3</th>\n",
       "      <th>(1, 1)</th>\n",
       "      <td>0.000000</td>\n",
       "      <td>0.000000</td>\n",
       "    </tr>\n",
       "    <tr>\n",
       "      <th>(1, 2)</th>\n",
       "      <td>0.000000</td>\n",
       "      <td>0.000000</td>\n",
       "    </tr>\n",
       "    <tr>\n",
       "      <th>(1, 3)</th>\n",
       "      <td>0.000000</td>\n",
       "      <td>0.000000</td>\n",
       "    </tr>\n",
       "    <tr>\n",
       "      <th>...</th>\n",
       "      <th>...</th>\n",
       "      <th>...</th>\n",
       "      <th>...</th>\n",
       "      <th>...</th>\n",
       "      <th>...</th>\n",
       "      <td>...</td>\n",
       "      <td>...</td>\n",
       "    </tr>\n",
       "    <tr>\n",
       "      <th rowspan=\"30\" valign=\"top\">10.00</th>\n",
       "      <th rowspan=\"30\" valign=\"top\">10.00</th>\n",
       "      <th rowspan=\"30\" valign=\"top\">linear</th>\n",
       "      <th rowspan=\"6\" valign=\"top\">0.7</th>\n",
       "      <th rowspan=\"3\" valign=\"top\">4</th>\n",
       "      <th>(1, 1)</th>\n",
       "      <td>0.924969</td>\n",
       "      <td>0.014926</td>\n",
       "    </tr>\n",
       "    <tr>\n",
       "      <th>(1, 2)</th>\n",
       "      <td>0.937995</td>\n",
       "      <td>0.014556</td>\n",
       "    </tr>\n",
       "    <tr>\n",
       "      <th>(1, 3)</th>\n",
       "      <td>0.936094</td>\n",
       "      <td>0.012400</td>\n",
       "    </tr>\n",
       "    <tr>\n",
       "      <th rowspan=\"3\" valign=\"top\">5</th>\n",
       "      <th>(1, 1)</th>\n",
       "      <td>0.926382</td>\n",
       "      <td>0.015457</td>\n",
       "    </tr>\n",
       "    <tr>\n",
       "      <th>(1, 2)</th>\n",
       "      <td>0.936175</td>\n",
       "      <td>0.012524</td>\n",
       "    </tr>\n",
       "    <tr>\n",
       "      <th>(1, 3)</th>\n",
       "      <td>0.937046</td>\n",
       "      <td>0.012911</td>\n",
       "    </tr>\n",
       "    <tr>\n",
       "      <th rowspan=\"12\" valign=\"top\">0.8</th>\n",
       "      <th rowspan=\"3\" valign=\"top\">2</th>\n",
       "      <th>(1, 1)</th>\n",
       "      <td>0.931527</td>\n",
       "      <td>0.020429</td>\n",
       "    </tr>\n",
       "    <tr>\n",
       "      <th>(1, 2)</th>\n",
       "      <td>0.946054</td>\n",
       "      <td>0.017224</td>\n",
       "    </tr>\n",
       "    <tr>\n",
       "      <th>(1, 3)</th>\n",
       "      <td>0.950617</td>\n",
       "      <td>0.022814</td>\n",
       "    </tr>\n",
       "    <tr>\n",
       "      <th rowspan=\"3\" valign=\"top\">3</th>\n",
       "      <th>(1, 1)</th>\n",
       "      <td>0.930983</td>\n",
       "      <td>0.018959</td>\n",
       "    </tr>\n",
       "    <tr>\n",
       "      <th>(1, 2)</th>\n",
       "      <td>0.943234</td>\n",
       "      <td>0.015594</td>\n",
       "    </tr>\n",
       "    <tr>\n",
       "      <th>(1, 3)</th>\n",
       "      <td>0.944037</td>\n",
       "      <td>0.017471</td>\n",
       "    </tr>\n",
       "    <tr>\n",
       "      <th rowspan=\"3\" valign=\"top\">4</th>\n",
       "      <th>(1, 1)</th>\n",
       "      <td>0.924969</td>\n",
       "      <td>0.014926</td>\n",
       "    </tr>\n",
       "    <tr>\n",
       "      <th>(1, 2)</th>\n",
       "      <td>0.937995</td>\n",
       "      <td>0.014556</td>\n",
       "    </tr>\n",
       "    <tr>\n",
       "      <th>(1, 3)</th>\n",
       "      <td>0.936094</td>\n",
       "      <td>0.012400</td>\n",
       "    </tr>\n",
       "    <tr>\n",
       "      <th rowspan=\"3\" valign=\"top\">5</th>\n",
       "      <th>(1, 1)</th>\n",
       "      <td>0.926382</td>\n",
       "      <td>0.015457</td>\n",
       "    </tr>\n",
       "    <tr>\n",
       "      <th>(1, 2)</th>\n",
       "      <td>0.936175</td>\n",
       "      <td>0.012524</td>\n",
       "    </tr>\n",
       "    <tr>\n",
       "      <th>(1, 3)</th>\n",
       "      <td>0.937046</td>\n",
       "      <td>0.012911</td>\n",
       "    </tr>\n",
       "    <tr>\n",
       "      <th rowspan=\"12\" valign=\"top\">0.9</th>\n",
       "      <th rowspan=\"3\" valign=\"top\">2</th>\n",
       "      <th>(1, 1)</th>\n",
       "      <td>0.931527</td>\n",
       "      <td>0.020429</td>\n",
       "    </tr>\n",
       "    <tr>\n",
       "      <th>(1, 2)</th>\n",
       "      <td>0.946054</td>\n",
       "      <td>0.017224</td>\n",
       "    </tr>\n",
       "    <tr>\n",
       "      <th>(1, 3)</th>\n",
       "      <td>0.950617</td>\n",
       "      <td>0.022814</td>\n",
       "    </tr>\n",
       "    <tr>\n",
       "      <th rowspan=\"3\" valign=\"top\">3</th>\n",
       "      <th>(1, 1)</th>\n",
       "      <td>0.930983</td>\n",
       "      <td>0.018959</td>\n",
       "    </tr>\n",
       "    <tr>\n",
       "      <th>(1, 2)</th>\n",
       "      <td>0.943234</td>\n",
       "      <td>0.015594</td>\n",
       "    </tr>\n",
       "    <tr>\n",
       "      <th>(1, 3)</th>\n",
       "      <td>0.944037</td>\n",
       "      <td>0.017471</td>\n",
       "    </tr>\n",
       "    <tr>\n",
       "      <th rowspan=\"3\" valign=\"top\">4</th>\n",
       "      <th>(1, 1)</th>\n",
       "      <td>0.924969</td>\n",
       "      <td>0.014926</td>\n",
       "    </tr>\n",
       "    <tr>\n",
       "      <th>(1, 2)</th>\n",
       "      <td>0.937995</td>\n",
       "      <td>0.014556</td>\n",
       "    </tr>\n",
       "    <tr>\n",
       "      <th>(1, 3)</th>\n",
       "      <td>0.936094</td>\n",
       "      <td>0.012400</td>\n",
       "    </tr>\n",
       "    <tr>\n",
       "      <th rowspan=\"3\" valign=\"top\">5</th>\n",
       "      <th>(1, 1)</th>\n",
       "      <td>0.926382</td>\n",
       "      <td>0.015457</td>\n",
       "    </tr>\n",
       "    <tr>\n",
       "      <th>(1, 2)</th>\n",
       "      <td>0.936175</td>\n",
       "      <td>0.012524</td>\n",
       "    </tr>\n",
       "    <tr>\n",
       "      <th>(1, 3)</th>\n",
       "      <td>0.937046</td>\n",
       "      <td>0.012911</td>\n",
       "    </tr>\n",
       "  </tbody>\n",
       "</table>\n",
       "<p>1152 rows × 2 columns</p>\n",
       "</div>"
      ],
      "text/plain": [
       "                                                                                                                                                            MEAN Validação  \\\n",
       "classifier__C classifier__gamma classifier__kernel preprocessor__cat__tfidf__max_df preprocessor__cat__tfidf__min_df preprocessor__cat__tfidf__ngram_range                   \n",
       "0.01          0.01              rbf                0.7                              2                                (1, 1)                                       0.000000   \n",
       "                                                                                                                     (1, 2)                                       0.000000   \n",
       "                                                                                                                     (1, 3)                                       0.000000   \n",
       "                                                                                    3                                (1, 1)                                       0.000000   \n",
       "                                                                                                                     (1, 2)                                       0.000000   \n",
       "                                                                                                                     (1, 3)                                       0.000000   \n",
       "                                                                                    4                                (1, 1)                                       0.000000   \n",
       "                                                                                                                     (1, 2)                                       0.000000   \n",
       "                                                                                                                     (1, 3)                                       0.000000   \n",
       "                                                                                    5                                (1, 1)                                       0.000000   \n",
       "                                                                                                                     (1, 2)                                       0.000000   \n",
       "                                                                                                                     (1, 3)                                       0.000000   \n",
       "                                                   0.8                              2                                (1, 1)                                       0.000000   \n",
       "                                                                                                                     (1, 2)                                       0.000000   \n",
       "                                                                                                                     (1, 3)                                       0.000000   \n",
       "                                                                                    3                                (1, 1)                                       0.000000   \n",
       "                                                                                                                     (1, 2)                                       0.000000   \n",
       "                                                                                                                     (1, 3)                                       0.000000   \n",
       "                                                                                    4                                (1, 1)                                       0.000000   \n",
       "                                                                                                                     (1, 2)                                       0.000000   \n",
       "                                                                                                                     (1, 3)                                       0.000000   \n",
       "                                                                                    5                                (1, 1)                                       0.000000   \n",
       "                                                                                                                     (1, 2)                                       0.000000   \n",
       "                                                                                                                     (1, 3)                                       0.000000   \n",
       "                                                   0.9                              2                                (1, 1)                                       0.000000   \n",
       "                                                                                                                     (1, 2)                                       0.000000   \n",
       "                                                                                                                     (1, 3)                                       0.000000   \n",
       "                                                                                    3                                (1, 1)                                       0.000000   \n",
       "                                                                                                                     (1, 2)                                       0.000000   \n",
       "                                                                                                                     (1, 3)                                       0.000000   \n",
       "...                                                                                                                                                                    ...   \n",
       "10.00         10.00             linear             0.7                              4                                (1, 1)                                       0.924969   \n",
       "                                                                                                                     (1, 2)                                       0.937995   \n",
       "                                                                                                                     (1, 3)                                       0.936094   \n",
       "                                                                                    5                                (1, 1)                                       0.926382   \n",
       "                                                                                                                     (1, 2)                                       0.936175   \n",
       "                                                                                                                     (1, 3)                                       0.937046   \n",
       "                                                   0.8                              2                                (1, 1)                                       0.931527   \n",
       "                                                                                                                     (1, 2)                                       0.946054   \n",
       "                                                                                                                     (1, 3)                                       0.950617   \n",
       "                                                                                    3                                (1, 1)                                       0.930983   \n",
       "                                                                                                                     (1, 2)                                       0.943234   \n",
       "                                                                                                                     (1, 3)                                       0.944037   \n",
       "                                                                                    4                                (1, 1)                                       0.924969   \n",
       "                                                                                                                     (1, 2)                                       0.937995   \n",
       "                                                                                                                     (1, 3)                                       0.936094   \n",
       "                                                                                    5                                (1, 1)                                       0.926382   \n",
       "                                                                                                                     (1, 2)                                       0.936175   \n",
       "                                                                                                                     (1, 3)                                       0.937046   \n",
       "                                                   0.9                              2                                (1, 1)                                       0.931527   \n",
       "                                                                                                                     (1, 2)                                       0.946054   \n",
       "                                                                                                                     (1, 3)                                       0.950617   \n",
       "                                                                                    3                                (1, 1)                                       0.930983   \n",
       "                                                                                                                     (1, 2)                                       0.943234   \n",
       "                                                                                                                     (1, 3)                                       0.944037   \n",
       "                                                                                    4                                (1, 1)                                       0.924969   \n",
       "                                                                                                                     (1, 2)                                       0.937995   \n",
       "                                                                                                                     (1, 3)                                       0.936094   \n",
       "                                                                                    5                                (1, 1)                                       0.926382   \n",
       "                                                                                                                     (1, 2)                                       0.936175   \n",
       "                                                                                                                     (1, 3)                                       0.937046   \n",
       "\n",
       "                                                                                                                                                            STD Validação  \n",
       "classifier__C classifier__gamma classifier__kernel preprocessor__cat__tfidf__max_df preprocessor__cat__tfidf__min_df preprocessor__cat__tfidf__ngram_range                 \n",
       "0.01          0.01              rbf                0.7                              2                                (1, 1)                                      0.000000  \n",
       "                                                                                                                     (1, 2)                                      0.000000  \n",
       "                                                                                                                     (1, 3)                                      0.000000  \n",
       "                                                                                    3                                (1, 1)                                      0.000000  \n",
       "                                                                                                                     (1, 2)                                      0.000000  \n",
       "                                                                                                                     (1, 3)                                      0.000000  \n",
       "                                                                                    4                                (1, 1)                                      0.000000  \n",
       "                                                                                                                     (1, 2)                                      0.000000  \n",
       "                                                                                                                     (1, 3)                                      0.000000  \n",
       "                                                                                    5                                (1, 1)                                      0.000000  \n",
       "                                                                                                                     (1, 2)                                      0.000000  \n",
       "                                                                                                                     (1, 3)                                      0.000000  \n",
       "                                                   0.8                              2                                (1, 1)                                      0.000000  \n",
       "                                                                                                                     (1, 2)                                      0.000000  \n",
       "                                                                                                                     (1, 3)                                      0.000000  \n",
       "                                                                                    3                                (1, 1)                                      0.000000  \n",
       "                                                                                                                     (1, 2)                                      0.000000  \n",
       "                                                                                                                     (1, 3)                                      0.000000  \n",
       "                                                                                    4                                (1, 1)                                      0.000000  \n",
       "                                                                                                                     (1, 2)                                      0.000000  \n",
       "                                                                                                                     (1, 3)                                      0.000000  \n",
       "                                                                                    5                                (1, 1)                                      0.000000  \n",
       "                                                                                                                     (1, 2)                                      0.000000  \n",
       "                                                                                                                     (1, 3)                                      0.000000  \n",
       "                                                   0.9                              2                                (1, 1)                                      0.000000  \n",
       "                                                                                                                     (1, 2)                                      0.000000  \n",
       "                                                                                                                     (1, 3)                                      0.000000  \n",
       "                                                                                    3                                (1, 1)                                      0.000000  \n",
       "                                                                                                                     (1, 2)                                      0.000000  \n",
       "                                                                                                                     (1, 3)                                      0.000000  \n",
       "...                                                                                                                                                                   ...  \n",
       "10.00         10.00             linear             0.7                              4                                (1, 1)                                      0.014926  \n",
       "                                                                                                                     (1, 2)                                      0.014556  \n",
       "                                                                                                                     (1, 3)                                      0.012400  \n",
       "                                                                                    5                                (1, 1)                                      0.015457  \n",
       "                                                                                                                     (1, 2)                                      0.012524  \n",
       "                                                                                                                     (1, 3)                                      0.012911  \n",
       "                                                   0.8                              2                                (1, 1)                                      0.020429  \n",
       "                                                                                                                     (1, 2)                                      0.017224  \n",
       "                                                                                                                     (1, 3)                                      0.022814  \n",
       "                                                                                    3                                (1, 1)                                      0.018959  \n",
       "                                                                                                                     (1, 2)                                      0.015594  \n",
       "                                                                                                                     (1, 3)                                      0.017471  \n",
       "                                                                                    4                                (1, 1)                                      0.014926  \n",
       "                                                                                                                     (1, 2)                                      0.014556  \n",
       "                                                                                                                     (1, 3)                                      0.012400  \n",
       "                                                                                    5                                (1, 1)                                      0.015457  \n",
       "                                                                                                                     (1, 2)                                      0.012524  \n",
       "                                                                                                                     (1, 3)                                      0.012911  \n",
       "                                                   0.9                              2                                (1, 1)                                      0.020429  \n",
       "                                                                                                                     (1, 2)                                      0.017224  \n",
       "                                                                                                                     (1, 3)                                      0.022814  \n",
       "                                                                                    3                                (1, 1)                                      0.018959  \n",
       "                                                                                                                     (1, 2)                                      0.015594  \n",
       "                                                                                                                     (1, 3)                                      0.017471  \n",
       "                                                                                    4                                (1, 1)                                      0.014926  \n",
       "                                                                                                                     (1, 2)                                      0.014556  \n",
       "                                                                                                                     (1, 3)                                      0.012400  \n",
       "                                                                                    5                                (1, 1)                                      0.015457  \n",
       "                                                                                                                     (1, 2)                                      0.012524  \n",
       "                                                                                                                     (1, 3)                                      0.012911  \n",
       "\n",
       "[1152 rows x 2 columns]"
      ]
     },
     "metadata": {},
     "output_type": "display_data"
    }
   ],
   "source": [
    "results(grid_svm)"
   ]
  },
  {
   "cell_type": "markdown",
   "metadata": {},
   "source": [
    "Training the model with hyperparameters tuned in the whole training set:"
   ]
  },
  {
   "cell_type": "code",
   "execution_count": 69,
   "metadata": {},
   "outputs": [
    {
     "data": {
      "text/plain": [
       "Pipeline(memory=None,\n",
       "         steps=[('preprocessor',\n",
       "                 FeatureUnion(n_jobs=None,\n",
       "                              transformer_list=[('num',\n",
       "                                                 Pipeline(memory=None,\n",
       "                                                          steps=[('num_selector',\n",
       "                                                                  ColumnSelector(columns=['Length',\n",
       "                                                                                          'Non-words'])),\n",
       "                                                                 ('scaler',\n",
       "                                                                  StandardScaler(copy=True,\n",
       "                                                                                 with_mean=True,\n",
       "                                                                                 with_std=True))],\n",
       "                                                          verbose=False)),\n",
       "                                                ('cat',\n",
       "                                                 Pipeline(memory=None,\n",
       "                                                          steps=[('quali_selector',\n",
       "                                                                  ColumnSelector(columns='Text...\n",
       "                                                                                  token_pattern='(?u)\\\\b\\\\w\\\\w+\\\\b',\n",
       "                                                                                  tokenizer=None,\n",
       "                                                                                  use_idf=True,\n",
       "                                                                                  vocabulary=None))],\n",
       "                                                          verbose=False))],\n",
       "                              transformer_weights=None, verbose=False)),\n",
       "                ('classifier',\n",
       "                 SVC(C=10, cache_size=200, class_weight=None, coef0=0.0,\n",
       "                     decision_function_shape='ovr', degree=3, gamma=0.1,\n",
       "                     kernel='rbf', max_iter=-1, probability=False,\n",
       "                     random_state=99, shrinking=True, tol=0.001,\n",
       "                     verbose=False))],\n",
       "         verbose=False)"
      ]
     },
     "execution_count": 69,
     "metadata": {},
     "output_type": "execute_result"
    }
   ],
   "source": [
    "model_svm = SVC(C=10, kernel='rbf', gamma=0.1, random_state=99)\n",
    "\n",
    "quanti = [column for column in X.columns if X[column].dtype!='object']\n",
    "quali = [column for column in X.columns if X[column].dtype=='object']\n",
    "\n",
    "numeric_transformer = Pipeline(steps=[\n",
    "        ('num_selector', ColumnSelector(columns=quanti)),\n",
    "        ('scaler', StandardScaler()),\n",
    "        ])\n",
    "    \n",
    "categorical_transformer = Pipeline(steps=[\n",
    "        ('quali_selector', ColumnSelector(columns=quali[0])),\n",
    "        ('tfidf', TfidfVectorizer(max_df=0.7, min_df=3, ngram_range=(1,2)))\n",
    "        ])\n",
    "    \n",
    "preprocessor = FeatureUnion(\n",
    "            transformer_list=[\n",
    "            ('num', numeric_transformer),\n",
    "            ('cat', categorical_transformer)\n",
    "            ])\n",
    "    \n",
    "svm = Pipeline(steps=[('preprocessor', preprocessor),\n",
    "                      ('classifier', model_svm)])\n",
    "\n",
    "svm.fit(X_train, y_train)"
   ]
  },
  {
   "cell_type": "markdown",
   "metadata": {},
   "source": [
    "### 5 - Building a Neural Network"
   ]
  },
  {
   "cell_type": "code",
   "execution_count": 78,
   "metadata": {},
   "outputs": [
    {
     "data": {
      "text/plain": [
       "<4179x7477 sparse matrix of type '<class 'numpy.float64'>'\n",
       "\twith 84944 stored elements in Compressed Sparse Row format>"
      ]
     },
     "execution_count": 78,
     "metadata": {},
     "output_type": "execute_result"
    }
   ],
   "source": [
    "def add_feature(X, feature_to_add):\n",
    "    \"\"\"\n",
    "    Returns sparse feature matrix with added feature.\n",
    "    feature_to_add can also be a list of features.\n",
    "    \"\"\"\n",
    "    from scipy.sparse import csr_matrix, hstack\n",
    "    return hstack([X, csr_matrix(feature_to_add).T], 'csr')\n",
    "\n",
    "\n",
    "tfidf = TfidfVectorizer(max_df = 0.8, min_df=3, ngram_range=(1,3))\n",
    "X_train_vect = tfidf.fit_transform(X_train['Text'])\n",
    "\n",
    "X_train_complete = add_feature(X_train_vect, [X_train['Length'], X_train['Non-words']])\n",
    "X_train_complete"
   ]
  },
  {
   "cell_type": "code",
   "execution_count": 79,
   "metadata": {},
   "outputs": [
    {
     "name": "stdout",
     "output_type": "stream",
     "text": [
      "_________________________________________________________________\n",
      "Layer (type)                 Output Shape              Param #   \n",
      "=================================================================\n",
      "dense_7 (Dense)              (None, 128)               957184    \n",
      "_________________________________________________________________\n",
      "dense_8 (Dense)              (None, 64)                8256      \n",
      "_________________________________________________________________\n",
      "dense_9 (Dense)              (None, 1)                 65        \n",
      "=================================================================\n",
      "Total params: 965,505\n",
      "Trainable params: 965,505\n",
      "Non-trainable params: 0\n",
      "_________________________________________________________________\n"
     ]
    }
   ],
   "source": [
    "nn = Sequential()\n",
    "nn.add(Dense(128, activation='relu', input_dim=X_train_complete.shape[1]))\n",
    "nn.add(Dense(64, activation='relu'))\n",
    "nn.add(Dense(1, activation='sigmoid'))\n",
    "\n",
    "nn.compile(loss='binary_crossentropy', optimizer='adam', metrics=['acc'])\n",
    "nn.summary()"
   ]
  },
  {
   "cell_type": "code",
   "execution_count": 80,
   "metadata": {},
   "outputs": [
    {
     "name": "stdout",
     "output_type": "stream",
     "text": [
      "Epoch 1/10\n",
      " - 3s - loss: 0.4024 - acc: 0.8892\n",
      "Epoch 2/10\n",
      " - 2s - loss: 0.1121 - acc: 0.9672\n",
      "Epoch 3/10\n",
      " - 3s - loss: 0.0510 - acc: 0.9854\n",
      "Epoch 4/10\n",
      " - 3s - loss: 0.0435 - acc: 0.9878\n",
      "Epoch 5/10\n",
      " - 3s - loss: 0.0253 - acc: 0.9935\n",
      "Epoch 6/10\n",
      " - 3s - loss: 0.0222 - acc: 0.9943\n",
      "Epoch 7/10\n",
      " - 3s - loss: 0.0157 - acc: 0.9962\n",
      "Epoch 8/10\n",
      " - 3s - loss: 0.0183 - acc: 0.9957\n",
      "Epoch 9/10\n",
      " - 3s - loss: 0.0052 - acc: 0.9995\n",
      "Epoch 10/10\n",
      " - 3s - loss: 0.0042 - acc: 0.9995\n"
     ]
    },
    {
     "data": {
      "text/plain": [
       "<keras.callbacks.History at 0x1cd83a6ad30>"
      ]
     },
     "execution_count": 80,
     "metadata": {},
     "output_type": "execute_result"
    }
   ],
   "source": [
    "nn.fit(X_train_complete, y_train, epochs=10, verbose=2)"
   ]
  },
  {
   "cell_type": "markdown",
   "metadata": {},
   "source": [
    "### 6 - Model Evaluation\n",
    "\n",
    "Now it is time to evaluate each one of the built models in order to select one of them for this particular task. It is necessary to remeber that we need to look for suitable metrics such as recall, f1-score and precision, since the accuracy may be biased due to data imbalance."
   ]
  },
  {
   "cell_type": "code",
   "execution_count": 96,
   "metadata": {},
   "outputs": [],
   "source": [
    "def metrics(model, X, y):\n",
    "    try:\n",
    "        y_pred = model.predict_classes(X)\n",
    "    except:\n",
    "        y_pred = model.predict(X)\n",
    "    \n",
    "    print('--> Confusion Matrix:')\n",
    "    confusion = pd.DataFrame(confusion_matrix(y, y_pred))\n",
    "    confusion.index = ['True Negative', 'True Positive']\n",
    "    confusion.columns = ['Predicted Negative', 'Predicted Positive']\n",
    "    display(confusion)\n",
    "    \n",
    "    print('\\n--> Classification Report\\n')\n",
    "    print(classification_report(y, y_pred, digits=3))\n",
    "    \n",
    "def roc_auc_curve_proba(model, model_name, metric_name, X, y):\n",
    "    if model_name=='SVM':\n",
    "        y_pred = model.decision_function(X)\n",
    "    else:\n",
    "        try:\n",
    "            y_pred = model.predict_proba(X)[:,1]\n",
    "        except:\n",
    "            y_pred = model.predict(X)\n",
    "\n",
    "    fpr, tpr, _ = roc_curve(y, y_pred)\n",
    "    roc_auc = auc(fpr, tpr)\n",
    "    \n",
    "    fig, (ax1, ax2) = plt.subplots(1, 2, figsize=(15,6))\n",
    "    lw = 2\n",
    "    ax1.plot(fpr, tpr, color='darkorange',\n",
    "             lw=lw, label= model_name + ' (AUC = %0.3f)' % roc_auc)\n",
    "    ax1.plot([0, 1], [0, 1], color='navy', lw=lw, linestyle='--')\n",
    "    ax1.set_xlim([-0.01, 1.01])\n",
    "    ax1.set_ylim([-0.01, 1.01])\n",
    "    ax1.set_xlabel('False Positive Rate', fontsize=12)\n",
    "    ax1.set_ylabel('True Positive Rate', fontsize=12)\n",
    "    ax1.set_title('ROC Curve - ' + metric_name + ' as parameter tuning score')\n",
    "    ax1.legend(loc=\"lower right\", fontsize=12)\n",
    "    \n",
    "    precision, recall, _ = precision_recall_curve(y, y_pred) \n",
    "    \n",
    "    ax2.plot(recall, precision, color='darkorange',\n",
    "             lw=lw, label= model_name)\n",
    "    ax2.set_xlim([-0.01, 1.01])\n",
    "    ax2.set_ylim([-0.01, 1.01])\n",
    "    ax2.set_xlabel('Recall', fontsize=12)\n",
    "    ax2.set_ylabel('Precision', fontsize=12)\n",
    "    ax2.set_title('Precision-Recall Curve - ' + metric_name + ' as parameter tuning score')\n",
    "    ax2.legend(loc=\"lower left\", fontsize=12)\n",
    "    plt.show()"
   ]
  },
  {
   "cell_type": "markdown",
   "metadata": {},
   "source": [
    "We should also remember to apply the same transformations to the test dataset."
   ]
  },
  {
   "cell_type": "code",
   "execution_count": 82,
   "metadata": {},
   "outputs": [
    {
     "data": {
      "text/plain": [
       "<1393x7475 sparse matrix of type '<class 'numpy.float64'>'\n",
       "\twith 23528 stored elements in Compressed Sparse Row format>"
      ]
     },
     "execution_count": 82,
     "metadata": {},
     "output_type": "execute_result"
    }
   ],
   "source": [
    "X_test_vect = tfidf.transform(X_test['Text'])\n",
    "X_test_vect"
   ]
  },
  {
   "cell_type": "code",
   "execution_count": 83,
   "metadata": {},
   "outputs": [
    {
     "data": {
      "text/plain": [
       "<1393x7477 sparse matrix of type '<class 'numpy.float64'>'\n",
       "\twith 26198 stored elements in Compressed Sparse Row format>"
      ]
     },
     "execution_count": 83,
     "metadata": {},
     "output_type": "execute_result"
    }
   ],
   "source": [
    "X_test_complete = add_feature(X_test_vect, [X_test['Length'], X_test['Non-words']])\n",
    "X_test_complete"
   ]
  },
  {
   "cell_type": "markdown",
   "metadata": {},
   "source": [
    "#### 6.1 SVM"
   ]
  },
  {
   "cell_type": "code",
   "execution_count": 84,
   "metadata": {},
   "outputs": [
    {
     "name": "stdout",
     "output_type": "stream",
     "text": [
      "--> Confusion Matrix:\n"
     ]
    },
    {
     "data": {
      "text/html": [
       "<div>\n",
       "<style scoped>\n",
       "    .dataframe tbody tr th:only-of-type {\n",
       "        vertical-align: middle;\n",
       "    }\n",
       "\n",
       "    .dataframe tbody tr th {\n",
       "        vertical-align: top;\n",
       "    }\n",
       "\n",
       "    .dataframe thead th {\n",
       "        text-align: right;\n",
       "    }\n",
       "</style>\n",
       "<table border=\"1\" class=\"dataframe\">\n",
       "  <thead>\n",
       "    <tr style=\"text-align: right;\">\n",
       "      <th></th>\n",
       "      <th>Predicted Negative</th>\n",
       "      <th>Predicted Positive</th>\n",
       "    </tr>\n",
       "  </thead>\n",
       "  <tbody>\n",
       "    <tr>\n",
       "      <th>True Negative</th>\n",
       "      <td>1200</td>\n",
       "      <td>2</td>\n",
       "    </tr>\n",
       "    <tr>\n",
       "      <th>True Positive</th>\n",
       "      <td>10</td>\n",
       "      <td>181</td>\n",
       "    </tr>\n",
       "  </tbody>\n",
       "</table>\n",
       "</div>"
      ],
      "text/plain": [
       "               Predicted Negative  Predicted Positive\n",
       "True Negative                1200                   2\n",
       "True Positive                  10                 181"
      ]
     },
     "metadata": {},
     "output_type": "display_data"
    },
    {
     "name": "stdout",
     "output_type": "stream",
     "text": [
      "\n",
      "--> Classification Report\n",
      "\n",
      "              precision    recall  f1-score   support\n",
      "\n",
      "           0      0.992     0.998     0.995      1202\n",
      "           1      0.989     0.948     0.968       191\n",
      "\n",
      "    accuracy                          0.991      1393\n",
      "   macro avg      0.990     0.973     0.981      1393\n",
      "weighted avg      0.991     0.991     0.991      1393\n",
      "\n"
     ]
    }
   ],
   "source": [
    "metrics(svm, X_test, y_test)"
   ]
  },
  {
   "cell_type": "code",
   "execution_count": 97,
   "metadata": {},
   "outputs": [
    {
     "data": {
      "image/png": "[encoded data removed]",
      "text/plain": [
       "<Figure size 1080x432 with 2 Axes>"
      ]
     },
     "metadata": {
      "needs_background": "light"
     },
     "output_type": "display_data"
    }
   ],
   "source": [
    "roc_auc_curve_proba(svm, 'SVM', 'F1-Score', X_test, y_test)"
   ]
  },
  {
   "cell_type": "markdown",
   "metadata": {},
   "source": [
    "#### 6.2 Neural Network"
   ]
  },
  {
   "cell_type": "code",
   "execution_count": 87,
   "metadata": {},
   "outputs": [
    {
     "name": "stdout",
     "output_type": "stream",
     "text": [
      "--> Confusion Matrix:\n"
     ]
    },
    {
     "data": {
      "text/html": [
       "<div>\n",
       "<style scoped>\n",
       "    .dataframe tbody tr th:only-of-type {\n",
       "        vertical-align: middle;\n",
       "    }\n",
       "\n",
       "    .dataframe tbody tr th {\n",
       "        vertical-align: top;\n",
       "    }\n",
       "\n",
       "    .dataframe thead th {\n",
       "        text-align: right;\n",
       "    }\n",
       "</style>\n",
       "<table border=\"1\" class=\"dataframe\">\n",
       "  <thead>\n",
       "    <tr style=\"text-align: right;\">\n",
       "      <th></th>\n",
       "      <th>Predicted Negative</th>\n",
       "      <th>Predicted Positive</th>\n",
       "    </tr>\n",
       "  </thead>\n",
       "  <tbody>\n",
       "    <tr>\n",
       "      <th>True Negative</th>\n",
       "      <td>1200</td>\n",
       "      <td>2</td>\n",
       "    </tr>\n",
       "    <tr>\n",
       "      <th>True Positive</th>\n",
       "      <td>12</td>\n",
       "      <td>179</td>\n",
       "    </tr>\n",
       "  </tbody>\n",
       "</table>\n",
       "</div>"
      ],
      "text/plain": [
       "               Predicted Negative  Predicted Positive\n",
       "True Negative                1200                   2\n",
       "True Positive                  12                 179"
      ]
     },
     "metadata": {},
     "output_type": "display_data"
    },
    {
     "name": "stdout",
     "output_type": "stream",
     "text": [
      "\n",
      "--> Classification Report\n",
      "\n",
      "              precision    recall  f1-score   support\n",
      "\n",
      "           0      0.990     0.998     0.994      1202\n",
      "           1      0.989     0.937     0.962       191\n",
      "\n",
      "    accuracy                          0.990      1393\n",
      "   macro avg      0.990     0.968     0.978      1393\n",
      "weighted avg      0.990     0.990     0.990      1393\n",
      "\n"
     ]
    }
   ],
   "source": [
    "metrics(nn, X_test_complete, y_test)"
   ]
  },
  {
   "cell_type": "code",
   "execution_count": 98,
   "metadata": {},
   "outputs": [
    {
     "data": {
      "image/png": "[encoded data removed]",
      "text/plain": [
       "<Figure size 1080x432 with 2 Axes>"
      ]
     },
     "metadata": {
      "needs_background": "light"
     },
     "output_type": "display_data"
    }
   ],
   "source": [
    "roc_auc_curve_proba(nn, 'Neural Network', 'F1-Score', X_test_complete, y_test)"
   ]
  },
  {
   "cell_type": "markdown",
   "metadata": {},
   "source": [
    "Comparing ROC curve among all available methods:"
   ]
  },
  {
   "cell_type": "code",
   "execution_count": 93,
   "metadata": {},
   "outputs": [
    {
     "data": {
      "image/png": "[encoded data removed]",
      "text/plain": [
       "<Figure size 1080x720 with 1 Axes>"
      ]
     },
     "metadata": {
      "needs_background": "light"
     },
     "output_type": "display_data"
    }
   ],
   "source": [
    "metric_name = 'F1-Score'\n",
    "\n",
    "fig, ax1 = plt.subplots(1, 1, figsize=(15,10))\n",
    "\n",
    "model_name = 'SVM'\n",
    "y_pred = svm.decision_function(X_test)\n",
    "fpr, tpr, _ = roc_curve(y_test, y_pred)\n",
    "roc_auc = auc(fpr, tpr)\n",
    "lw = 3\n",
    "ax1.plot(fpr, tpr, color='green', linestyle=':',\n",
    "         lw=lw, label= model_name + ' (AUC = %0.3f)' % roc_auc)\n",
    "\n",
    "model_name = 'Neural Network'\n",
    "y_pred = nn.predict(X_test_complete)\n",
    "fpr, tpr, _ = roc_curve(y_test, y_pred)\n",
    "roc_auc = auc(fpr, tpr)\n",
    "lw = 3\n",
    "ax1.plot(fpr, tpr, color='navy', linestyle='--',\n",
    "         lw=lw, label= model_name + ' (AUC = %0.3f)' % roc_auc)\n",
    "\n",
    "\n",
    "ax1.plot([0, 1], [0, 1], color='black', lw=lw, linestyle='--')\n",
    "ax1.set_xlim([-0.01, 1.01])\n",
    "ax1.set_ylim([-0.01, 1.01])\n",
    "ax1.set_xlabel('False Positive Rate', fontsize=14)\n",
    "ax1.set_ylabel('True Positive Rate', fontsize=14)\n",
    "ax1.set_title('ROC Curve - ' + metric_name + ' as parameter tuning score', fontsize=17)\n",
    "leg = ax1.legend(loc=\"lower right\", fontsize=14)\n",
    "for tick in ax1.xaxis.get_major_ticks():\n",
    "        tick.label.set_fontsize(14)\n",
    "for tick in ax1.yaxis.get_major_ticks():\n",
    "        tick.label.set_fontsize(14)\n",
    "leg.get_frame().set_edgecolor('black')\n",
    "\n",
    "plt.show()"
   ]
  },
  {
   "cell_type": "markdown",
   "metadata": {},
   "source": [
    "### 7 - Conclusion"
   ]
  },
  {
   "cell_type": "markdown",
   "metadata": {},
   "source": [
    "As we can see from data above, we can select the designed **Neural Network** as the best model for the proposed problem, since it presents the best overall performance, especially if we take into account the recall score. In a problem such spam classification, it is more important to avoid false negatives than to correctly predict a non-spam message, once the user does not want to receive any messages filtered as spam.\n",
    "\n",
    "However, if we think about model simplicity and interpretability, a linear SVM is also a good choice in comparison to a neural network.\n",
    "\n",
    "Finally, it is possible to realize that our hypothesis about important features in a spam classification problem were suitable, since it has lead us to satisfactory results in the test set."
   ]
  },
  {
   "cell_type": "markdown",
   "metadata": {},
   "source": [
    "\n",
    "I hope you have enjoyed this project!!\n",
    "\n",
    "**Gabriel Fernandes Luz**  \n",
    "gfluz94@gmail.com"
   ]
  }
 ],
 "metadata": {
  "kernelspec": {
   "display_name": "Python 3",
   "language": "python",
   "name": "python3"
  },
  "language_info": {
   "codemirror_mode": {
    "name": "ipython",
    "version": 3
   },
   "file_extension": ".py",
   "mimetype": "text/x-python",
   "name": "python",
   "nbconvert_exporter": "python",
   "pygments_lexer": "ipython3",
   "version": "3.7.1"
  }
 },
 "nbformat": 4,
 "nbformat_minor": 2
}
