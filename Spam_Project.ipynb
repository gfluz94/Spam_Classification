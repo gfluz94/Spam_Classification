{
 "cells": [
  {
   "cell_type": "markdown",
   "metadata": {},
   "source": [
    "### SPAM Classification Problem\n",
    "\n",
    "This project seeks building a classifier to identify properly if a given text message is spam or not."
   ]
  },
  {
   "cell_type": "markdown",
   "metadata": {},
   "source": [
    "#### 1 - Importing libraries"
   ]
  },
  {
   "cell_type": "code",
   "execution_count": 194,
   "metadata": {},
   "outputs": [],
   "source": [
    "import pandas as pd\n",
    "import numpy as np\n",
    "\n",
    "import missingno as mno\n",
    "\n",
    "import spacy\n",
    "nlp = spacy.load('en_core_web_sm')\n",
    "\n",
    "import matplotlib.pyplot as plt\n",
    "%matplotlib inline\n",
    "\n",
    "import warnings\n",
    "warnings.filterwarnings('ignore')\n",
    "\n",
    "from sklearn.svm import SVC\n",
    "from sklearn.naive_bayes import MultinomialNB\n",
    "from sklearn.metrics import accuracy_score, classification_report, roc_curve, precision_recall_curve, confusion_matrix, auc\n",
    "from sklearn.feature_extraction.text import TfidfVectorizer \n",
    "from sklearn.model_selection import train_test_split, GridSearchCV\n",
    "from sklearn.preprocessing import StandardScaler\n",
    "from sklearn.pipeline import Pipeline\n",
    "\n",
    "from keras.models import Sequential\n",
    "from keras.layers import Dense"
   ]
  },
  {
   "cell_type": "markdown",
   "metadata": {},
   "source": [
    "#### 2 - Importing dataset\n",
    "\n",
    "The text messages are stores in a *csv* file named **SMSSpamCollection** at which there are two columns:\n",
    "\n",
    "+ Text\n",
    "+ Label: ham x spam"
   ]
  },
  {
   "cell_type": "code",
   "execution_count": 25,
   "metadata": {},
   "outputs": [
    {
     "data": {
      "text/html": [
       "<div>\n",
       "<style scoped>\n",
       "    .dataframe tbody tr th:only-of-type {\n",
       "        vertical-align: middle;\n",
       "    }\n",
       "\n",
       "    .dataframe tbody tr th {\n",
       "        vertical-align: top;\n",
       "    }\n",
       "\n",
       "    .dataframe thead th {\n",
       "        text-align: right;\n",
       "    }\n",
       "</style>\n",
       "<table border=\"1\" class=\"dataframe\">\n",
       "  <thead>\n",
       "    <tr style=\"text-align: right;\">\n",
       "      <th></th>\n",
       "      <th>Label</th>\n",
       "      <th>Text</th>\n",
       "    </tr>\n",
       "  </thead>\n",
       "  <tbody>\n",
       "    <tr>\n",
       "      <th>0</th>\n",
       "      <td>ham</td>\n",
       "      <td>Go until jurong point, crazy.. Available only ...</td>\n",
       "    </tr>\n",
       "    <tr>\n",
       "      <th>1</th>\n",
       "      <td>ham</td>\n",
       "      <td>Ok lar... Joking wif u oni...</td>\n",
       "    </tr>\n",
       "    <tr>\n",
       "      <th>2</th>\n",
       "      <td>spam</td>\n",
       "      <td>Free entry in 2 a wkly comp to win FA Cup fina...</td>\n",
       "    </tr>\n",
       "    <tr>\n",
       "      <th>3</th>\n",
       "      <td>ham</td>\n",
       "      <td>U dun say so early hor... U c already then say...</td>\n",
       "    </tr>\n",
       "    <tr>\n",
       "      <th>4</th>\n",
       "      <td>ham</td>\n",
       "      <td>Nah I don't think he goes to usf, he lives aro...</td>\n",
       "    </tr>\n",
       "  </tbody>\n",
       "</table>\n",
       "</div>"
      ],
      "text/plain": [
       "  Label                                               Text\n",
       "0   ham  Go until jurong point, crazy.. Available only ...\n",
       "1   ham                      Ok lar... Joking wif u oni...\n",
       "2  spam  Free entry in 2 a wkly comp to win FA Cup fina...\n",
       "3   ham  U dun say so early hor... U c already then say...\n",
       "4   ham  Nah I don't think he goes to usf, he lives aro..."
      ]
     },
     "execution_count": 25,
     "metadata": {},
     "output_type": "execute_result"
    }
   ],
   "source": [
    "data = pd.read_csv('./NLP/SMSSpamCollection.csv', sep='\\t', header=None, names=['Label', 'Text'])\n",
    "data.head()"
   ]
  },
  {
   "cell_type": "markdown",
   "metadata": {},
   "source": [
    "First of all, we need to check if the data is imbalanced."
   ]
  },
  {
   "cell_type": "code",
   "execution_count": 26,
   "metadata": {},
   "outputs": [
    {
     "data": {
      "text/plain": [
       "ham     4825\n",
       "spam     747\n",
       "Name: Label, dtype: int64"
      ]
     },
     "metadata": {},
     "output_type": "display_data"
    },
    {
     "data": {
      "image/png": "[encoded data removed]",
      "text/plain": [
       "<Figure size 432x288 with 1 Axes>"
      ]
     },
     "metadata": {
      "needs_background": "light"
     },
     "output_type": "display_data"
    }
   ],
   "source": [
    "display(data.Label.value_counts())\n",
    "plt.figure(figsize=(6,4))\n",
    "data.Label.value_counts().plot(kind='bar');"
   ]
  },
  {
   "cell_type": "markdown",
   "metadata": {},
   "source": [
    "Since the data is indeed imbalanced, we look for strategies in order to avoid building a model that seeks the maximization of accuracy and always predict that a given message is not spam, since it is the majority class.\n",
    "\n",
    "In a first moment, we will try to obtain a model using different metrics, such as **recall**, __precision__ or **f1-score**. If we are not succesfull, then oversampling or undersampling strategies can be applied to this problem.\n",
    "\n",
    "Then, we may also look for missing data or blank text messages."
   ]
  },
  {
   "cell_type": "code",
   "execution_count": 27,
   "metadata": {},
   "outputs": [
    {
     "data": {
      "text/plain": [
       "(5572, 2)"
      ]
     },
     "execution_count": 27,
     "metadata": {},
     "output_type": "execute_result"
    }
   ],
   "source": [
    "data.shape"
   ]
  },
  {
   "cell_type": "code",
   "execution_count": 28,
   "metadata": {},
   "outputs": [
    {
     "data": {
      "text/plain": [
       "False    5572\n",
       "Name: Label, dtype: int64"
      ]
     },
     "execution_count": 28,
     "metadata": {},
     "output_type": "execute_result"
    }
   ],
   "source": [
    "data.Label.isnull().value_counts()"
   ]
  },
  {
   "cell_type": "code",
   "execution_count": 29,
   "metadata": {},
   "outputs": [
    {
     "data": {
      "text/plain": [
       "False    5572\n",
       "Name: Text, dtype: int64"
      ]
     },
     "execution_count": 29,
     "metadata": {},
     "output_type": "execute_result"
    }
   ],
   "source": [
    "data.Text.isnull().value_counts()"
   ]
  },
  {
   "cell_type": "code",
   "execution_count": 37,
   "metadata": {},
   "outputs": [
    {
     "data": {
      "image/png": "[encoded data removed]",
      "text/plain": [
       "<Figure size 288x288 with 2 Axes>"
      ]
     },
     "metadata": {
      "needs_background": "light"
     },
     "output_type": "display_data"
    }
   ],
   "source": [
    "mno.matrix(data, figsize=(4,4));"
   ]
  },
  {
   "cell_type": "code",
   "execution_count": 40,
   "metadata": {},
   "outputs": [
    {
     "data": {
      "text/html": [
       "<div>\n",
       "<style scoped>\n",
       "    .dataframe tbody tr th:only-of-type {\n",
       "        vertical-align: middle;\n",
       "    }\n",
       "\n",
       "    .dataframe tbody tr th {\n",
       "        vertical-align: top;\n",
       "    }\n",
       "\n",
       "    .dataframe thead th {\n",
       "        text-align: right;\n",
       "    }\n",
       "</style>\n",
       "<table border=\"1\" class=\"dataframe\">\n",
       "  <thead>\n",
       "    <tr style=\"text-align: right;\">\n",
       "      <th></th>\n",
       "      <th>Label</th>\n",
       "      <th>Text</th>\n",
       "    </tr>\n",
       "  </thead>\n",
       "  <tbody>\n",
       "  </tbody>\n",
       "</table>\n",
       "</div>"
      ],
      "text/plain": [
       "Empty DataFrame\n",
       "Columns: [Label, Text]\n",
       "Index: []"
      ]
     },
     "execution_count": 40,
     "metadata": {},
     "output_type": "execute_result"
    }
   ],
   "source": [
    "data[data.Text.str.isspace()==True]"
   ]
  },
  {
   "cell_type": "markdown",
   "metadata": {},
   "source": [
    "Then, we can conclude that there is neither missing data nor blank text that could affect negatively the quality of the algorithm."
   ]
  },
  {
   "cell_type": "markdown",
   "metadata": {},
   "source": [
    "#### 3 - Extracting Features\n",
    "\n",
    "Since it is essential to have business knowledge of a given problem in order to solve it applying machine learning algorithms, we must think about appropriate features contained in the text which could lead to a great discrimination of the available data.\n",
    "\n",
    "For instance, it is expected that spam messages contain a lot of uppercase words and especial caracters and numbers in the text. Hence, it could be a good idea to add these extra features to our model. Moreover, the message length could also be a reasonable feature, once people tend to be straight to the point when texting a message."
   ]
  },
  {
   "cell_type": "code",
   "execution_count": 70,
   "metadata": {},
   "outputs": [],
   "source": [
    "data['Length'] = data.Text.str.len()"
   ]
  },
  {
   "cell_type": "code",
   "execution_count": 83,
   "metadata": {},
   "outputs": [],
   "source": [
    "data['Non-words'] = data['Text'].apply(lambda x: nlp.tokenizer(x.lower()))\n",
    "data['Non-words'] = data['Non-words'].apply(lambda x: sum(list(map(lambda y: 0 if y.is_alpha else 1, x))))"
   ]
  },
  {
   "cell_type": "code",
   "execution_count": 85,
   "metadata": {},
   "outputs": [
    {
     "data": {
      "text/html": [
       "<div>\n",
       "<style scoped>\n",
       "    .dataframe tbody tr th:only-of-type {\n",
       "        vertical-align: middle;\n",
       "    }\n",
       "\n",
       "    .dataframe tbody tr th {\n",
       "        vertical-align: top;\n",
       "    }\n",
       "\n",
       "    .dataframe thead th {\n",
       "        text-align: right;\n",
       "    }\n",
       "</style>\n",
       "<table border=\"1\" class=\"dataframe\">\n",
       "  <thead>\n",
       "    <tr style=\"text-align: right;\">\n",
       "      <th></th>\n",
       "      <th>Label</th>\n",
       "      <th>Text</th>\n",
       "      <th>Length</th>\n",
       "      <th>Non-words</th>\n",
       "    </tr>\n",
       "  </thead>\n",
       "  <tbody>\n",
       "    <tr>\n",
       "      <th>0</th>\n",
       "      <td>ham</td>\n",
       "      <td>Go until jurong point, crazy.. Available only ...</td>\n",
       "      <td>111</td>\n",
       "      <td>4</td>\n",
       "    </tr>\n",
       "    <tr>\n",
       "      <th>1</th>\n",
       "      <td>ham</td>\n",
       "      <td>Ok lar... Joking wif u oni...</td>\n",
       "      <td>29</td>\n",
       "      <td>2</td>\n",
       "    </tr>\n",
       "    <tr>\n",
       "      <th>2</th>\n",
       "      <td>spam</td>\n",
       "      <td>Free entry in 2 a wkly comp to win FA Cup fina...</td>\n",
       "      <td>155</td>\n",
       "      <td>10</td>\n",
       "    </tr>\n",
       "    <tr>\n",
       "      <th>3</th>\n",
       "      <td>ham</td>\n",
       "      <td>U dun say so early hor... U c already then say...</td>\n",
       "      <td>49</td>\n",
       "      <td>2</td>\n",
       "    </tr>\n",
       "    <tr>\n",
       "      <th>4</th>\n",
       "      <td>ham</td>\n",
       "      <td>Nah I don't think he goes to usf, he lives aro...</td>\n",
       "      <td>61</td>\n",
       "      <td>2</td>\n",
       "    </tr>\n",
       "  </tbody>\n",
       "</table>\n",
       "</div>"
      ],
      "text/plain": [
       "  Label                                               Text  Length  Non-words\n",
       "0   ham  Go until jurong point, crazy.. Available only ...     111          4\n",
       "1   ham                      Ok lar... Joking wif u oni...      29          2\n",
       "2  spam  Free entry in 2 a wkly comp to win FA Cup fina...     155         10\n",
       "3   ham  U dun say so early hor... U c already then say...      49          2\n",
       "4   ham  Nah I don't think he goes to usf, he lives aro...      61          2"
      ]
     },
     "execution_count": 85,
     "metadata": {},
     "output_type": "execute_result"
    }
   ],
   "source": [
    "data.head()"
   ]
  },
  {
   "cell_type": "markdown",
   "metadata": {},
   "source": [
    "#### 3 - Splitting Dataset\n",
    "\n",
    "In order to train and evaluate the performance of our classifier, we need to test its predictions for labeled previously unseen data - that is, we need to train the algorithm using only a part of our dataset and testing it later with the remaining data points."
   ]
  },
  {
   "cell_type": "code",
   "execution_count": 141,
   "metadata": {},
   "outputs": [],
   "source": [
    "y = data.Label.apply(lambda x: 1 if x=='spam' else 0)\n",
    "X = data.drop(columns=['Label'])"
   ]
  },
  {
   "cell_type": "code",
   "execution_count": 142,
   "metadata": {},
   "outputs": [],
   "source": [
    "X_train, X_test, y_train, y_test = train_test_split(X, y, test_size=0.25, random_state=99)"
   ]
  },
  {
   "cell_type": "markdown",
   "metadata": {},
   "source": [
    "Then, in order to process data, we need to convert the text in a bag of words, so the algorithm can learn the data."
   ]
  },
  {
   "cell_type": "code",
   "execution_count": 143,
   "metadata": {},
   "outputs": [
    {
     "data": {
      "text/plain": [
       "<4179x7475 sparse matrix of type '<class 'numpy.float64'>'\n",
       "\twith 76880 stored elements in Compressed Sparse Row format>"
      ]
     },
     "execution_count": 143,
     "metadata": {},
     "output_type": "execute_result"
    }
   ],
   "source": [
    "tfidf = TfidfVectorizer(max_df = 0.8, min_df=3, ngram_range=(1,3))\n",
    "X_train_vect = tfidf.fit_transform(X_train['Text'])\n",
    "X_train_vect"
   ]
  },
  {
   "cell_type": "markdown",
   "metadata": {},
   "source": [
    "Since Term-Frequency Inverse Document-Frequency procedure can only be applied to text column, we need a method that can add our remaining features to the whole dataset again."
   ]
  },
  {
   "cell_type": "code",
   "execution_count": 144,
   "metadata": {},
   "outputs": [],
   "source": [
    "def add_feature(X, feature_to_add):\n",
    "    \"\"\"\n",
    "    Returns sparse feature matrix with added feature.\n",
    "    feature_to_add can also be a list of features.\n",
    "    \"\"\"\n",
    "    from scipy.sparse import csr_matrix, hstack\n",
    "    return hstack([X, csr_matrix(feature_to_add).T], 'csr')"
   ]
  },
  {
   "cell_type": "code",
   "execution_count": 145,
   "metadata": {},
   "outputs": [
    {
     "data": {
      "text/plain": [
       "<4179x7477 sparse matrix of type '<class 'numpy.float64'>'\n",
       "\twith 84944 stored elements in Compressed Sparse Row format>"
      ]
     },
     "execution_count": 145,
     "metadata": {},
     "output_type": "execute_result"
    }
   ],
   "source": [
    "X_train_complete = add_feature(X_train_vect, [X_train['Length'], X_train['Non-words']])\n",
    "X_train_complete"
   ]
  },
  {
   "cell_type": "markdown",
   "metadata": {},
   "source": [
    "Then, at least, it is a reasonable measure to standardize the data, in order to allow all features to be on the same scale, so the algorithm does not give different importance to a given feature. However, we pcan build a **pipeline** that takes it into account, so we can prevent data leakage when tuning the hyperparameters of the model."
   ]
  },
  {
   "cell_type": "code",
   "execution_count": 160,
   "metadata": {},
   "outputs": [],
   "source": [
    "def evaluation(model, param, X, y):\n",
    "    \n",
    "    from sklearn.model_selection import GridSearchCV\n",
    "    \n",
    "    clf = Pipeline(steps=[('scaler', StandardScaler(with_mean=False)),\n",
    "                      ('classifier', model)])\n",
    "    \n",
    "    grid_search = GridSearchCV(clf, param_grid=param, cv=5, n_jobs=-1, scoring='f1', iid=False)\n",
    "    grid_search.fit(X, y)\n",
    "    \n",
    "    return grid_search\n",
    "\n",
    "def results(grid_model):\n",
    "    model_params = grid_model.cv_results_['params']\n",
    "    mean_test = grid_model.cv_results_['mean_test_score']\n",
    "    std_test = grid_model.cv_results_['std_test_score']\n",
    "    \n",
    "    output = pd.DataFrame(model_params).set_index(list(model_params[0].keys()))\n",
    "    output['MEAN Validação'] = mean_test\n",
    "    output['STD Validação'] = std_test\n",
    "    \n",
    "    print('MELHORES PARÂMETROS:')\n",
    "    for parametro, valor in grid_model.best_params_.items():\n",
    "        print('--> ' + parametro + ': ' + str(valor))\n",
    "    \n",
    "    display(output)\n",
    "    \n",
    "    return"
   ]
  },
  {
   "cell_type": "markdown",
   "metadata": {},
   "source": [
    "#### 4 - Training the Models"
   ]
  },
  {
   "cell_type": "markdown",
   "metadata": {},
   "source": [
    "##### 4.1 SVM"
   ]
  },
  {
   "cell_type": "code",
   "execution_count": 166,
   "metadata": {},
   "outputs": [],
   "source": [
    "model_svm = SVC(random_state=99)\n",
    "param_svm = {'classifier__C':[1, 3, 10, 30, 100], 'classifier__kernel':['rbf', 'linear'], 'classifier__gamma':[1, 3, 10, 30, 100]}\n",
    "\n",
    "grid_svm = evaluation(model_svm, param_svm, X_train_complete, y_train)"
   ]
  },
  {
   "cell_type": "code",
   "execution_count": 167,
   "metadata": {},
   "outputs": [
    {
     "name": "stdout",
     "output_type": "stream",
     "text": [
      "MELHORES PARÂMETROS:\n",
      "--> classifier__C: 1\n",
      "--> classifier__gamma: 1\n",
      "--> classifier__kernel: linear\n"
     ]
    },
    {
     "data": {
      "text/html": [
       "<div>\n",
       "<style scoped>\n",
       "    .dataframe tbody tr th:only-of-type {\n",
       "        vertical-align: middle;\n",
       "    }\n",
       "\n",
       "    .dataframe tbody tr th {\n",
       "        vertical-align: top;\n",
       "    }\n",
       "\n",
       "    .dataframe thead th {\n",
       "        text-align: right;\n",
       "    }\n",
       "</style>\n",
       "<table border=\"1\" class=\"dataframe\">\n",
       "  <thead>\n",
       "    <tr style=\"text-align: right;\">\n",
       "      <th></th>\n",
       "      <th></th>\n",
       "      <th></th>\n",
       "      <th>MEAN Validação</th>\n",
       "      <th>STD Validação</th>\n",
       "    </tr>\n",
       "    <tr>\n",
       "      <th>classifier__C</th>\n",
       "      <th>classifier__gamma</th>\n",
       "      <th>classifier__kernel</th>\n",
       "      <th></th>\n",
       "      <th></th>\n",
       "    </tr>\n",
       "  </thead>\n",
       "  <tbody>\n",
       "    <tr>\n",
       "      <th rowspan=\"10\" valign=\"top\">1</th>\n",
       "      <th rowspan=\"2\" valign=\"top\">1</th>\n",
       "      <th>rbf</th>\n",
       "      <td>0.406736</td>\n",
       "      <td>0.015533</td>\n",
       "    </tr>\n",
       "    <tr>\n",
       "      <th>linear</th>\n",
       "      <td>0.919866</td>\n",
       "      <td>0.013133</td>\n",
       "    </tr>\n",
       "    <tr>\n",
       "      <th rowspan=\"2\" valign=\"top\">3</th>\n",
       "      <th>rbf</th>\n",
       "      <td>0.399586</td>\n",
       "      <td>0.025815</td>\n",
       "    </tr>\n",
       "    <tr>\n",
       "      <th>linear</th>\n",
       "      <td>0.919866</td>\n",
       "      <td>0.013133</td>\n",
       "    </tr>\n",
       "    <tr>\n",
       "      <th rowspan=\"2\" valign=\"top\">10</th>\n",
       "      <th>rbf</th>\n",
       "      <td>0.376220</td>\n",
       "      <td>0.025921</td>\n",
       "    </tr>\n",
       "    <tr>\n",
       "      <th>linear</th>\n",
       "      <td>0.919866</td>\n",
       "      <td>0.013133</td>\n",
       "    </tr>\n",
       "    <tr>\n",
       "      <th rowspan=\"2\" valign=\"top\">30</th>\n",
       "      <th>rbf</th>\n",
       "      <td>0.371601</td>\n",
       "      <td>0.021893</td>\n",
       "    </tr>\n",
       "    <tr>\n",
       "      <th>linear</th>\n",
       "      <td>0.919866</td>\n",
       "      <td>0.013133</td>\n",
       "    </tr>\n",
       "    <tr>\n",
       "      <th rowspan=\"2\" valign=\"top\">100</th>\n",
       "      <th>rbf</th>\n",
       "      <td>0.369197</td>\n",
       "      <td>0.023116</td>\n",
       "    </tr>\n",
       "    <tr>\n",
       "      <th>linear</th>\n",
       "      <td>0.919866</td>\n",
       "      <td>0.013133</td>\n",
       "    </tr>\n",
       "    <tr>\n",
       "      <th rowspan=\"10\" valign=\"top\">3</th>\n",
       "      <th rowspan=\"2\" valign=\"top\">1</th>\n",
       "      <th>rbf</th>\n",
       "      <td>0.411237</td>\n",
       "      <td>0.018192</td>\n",
       "    </tr>\n",
       "    <tr>\n",
       "      <th>linear</th>\n",
       "      <td>0.919866</td>\n",
       "      <td>0.013133</td>\n",
       "    </tr>\n",
       "    <tr>\n",
       "      <th rowspan=\"2\" valign=\"top\">3</th>\n",
       "      <th>rbf</th>\n",
       "      <td>0.408922</td>\n",
       "      <td>0.019776</td>\n",
       "    </tr>\n",
       "    <tr>\n",
       "      <th>linear</th>\n",
       "      <td>0.919866</td>\n",
       "      <td>0.013133</td>\n",
       "    </tr>\n",
       "    <tr>\n",
       "      <th rowspan=\"2\" valign=\"top\">10</th>\n",
       "      <th>rbf</th>\n",
       "      <td>0.404434</td>\n",
       "      <td>0.017131</td>\n",
       "    </tr>\n",
       "    <tr>\n",
       "      <th>linear</th>\n",
       "      <td>0.919866</td>\n",
       "      <td>0.013133</td>\n",
       "    </tr>\n",
       "    <tr>\n",
       "      <th rowspan=\"2\" valign=\"top\">30</th>\n",
       "      <th>rbf</th>\n",
       "      <td>0.371073</td>\n",
       "      <td>0.022078</td>\n",
       "    </tr>\n",
       "    <tr>\n",
       "      <th>linear</th>\n",
       "      <td>0.919866</td>\n",
       "      <td>0.013133</td>\n",
       "    </tr>\n",
       "    <tr>\n",
       "      <th rowspan=\"2\" valign=\"top\">100</th>\n",
       "      <th>rbf</th>\n",
       "      <td>0.369197</td>\n",
       "      <td>0.023116</td>\n",
       "    </tr>\n",
       "    <tr>\n",
       "      <th>linear</th>\n",
       "      <td>0.919866</td>\n",
       "      <td>0.013133</td>\n",
       "    </tr>\n",
       "    <tr>\n",
       "      <th rowspan=\"10\" valign=\"top\">10</th>\n",
       "      <th rowspan=\"2\" valign=\"top\">1</th>\n",
       "      <th>rbf</th>\n",
       "      <td>0.411237</td>\n",
       "      <td>0.018192</td>\n",
       "    </tr>\n",
       "    <tr>\n",
       "      <th>linear</th>\n",
       "      <td>0.919866</td>\n",
       "      <td>0.013133</td>\n",
       "    </tr>\n",
       "    <tr>\n",
       "      <th rowspan=\"2\" valign=\"top\">3</th>\n",
       "      <th>rbf</th>\n",
       "      <td>0.408347</td>\n",
       "      <td>0.019984</td>\n",
       "    </tr>\n",
       "    <tr>\n",
       "      <th>linear</th>\n",
       "      <td>0.919866</td>\n",
       "      <td>0.013133</td>\n",
       "    </tr>\n",
       "    <tr>\n",
       "      <th rowspan=\"2\" valign=\"top\">10</th>\n",
       "      <th>rbf</th>\n",
       "      <td>0.403303</td>\n",
       "      <td>0.017745</td>\n",
       "    </tr>\n",
       "    <tr>\n",
       "      <th>linear</th>\n",
       "      <td>0.919866</td>\n",
       "      <td>0.013133</td>\n",
       "    </tr>\n",
       "    <tr>\n",
       "      <th rowspan=\"2\" valign=\"top\">30</th>\n",
       "      <th>rbf</th>\n",
       "      <td>0.371073</td>\n",
       "      <td>0.022078</td>\n",
       "    </tr>\n",
       "    <tr>\n",
       "      <th>linear</th>\n",
       "      <td>0.919866</td>\n",
       "      <td>0.013133</td>\n",
       "    </tr>\n",
       "    <tr>\n",
       "      <th rowspan=\"2\" valign=\"top\">100</th>\n",
       "      <th>rbf</th>\n",
       "      <td>0.369197</td>\n",
       "      <td>0.023116</td>\n",
       "    </tr>\n",
       "    <tr>\n",
       "      <th>linear</th>\n",
       "      <td>0.919866</td>\n",
       "      <td>0.013133</td>\n",
       "    </tr>\n",
       "    <tr>\n",
       "      <th rowspan=\"10\" valign=\"top\">30</th>\n",
       "      <th rowspan=\"2\" valign=\"top\">1</th>\n",
       "      <th>rbf</th>\n",
       "      <td>0.411237</td>\n",
       "      <td>0.018192</td>\n",
       "    </tr>\n",
       "    <tr>\n",
       "      <th>linear</th>\n",
       "      <td>0.919866</td>\n",
       "      <td>0.013133</td>\n",
       "    </tr>\n",
       "    <tr>\n",
       "      <th rowspan=\"2\" valign=\"top\">3</th>\n",
       "      <th>rbf</th>\n",
       "      <td>0.407220</td>\n",
       "      <td>0.020573</td>\n",
       "    </tr>\n",
       "    <tr>\n",
       "      <th>linear</th>\n",
       "      <td>0.919866</td>\n",
       "      <td>0.013133</td>\n",
       "    </tr>\n",
       "    <tr>\n",
       "      <th rowspan=\"2\" valign=\"top\">10</th>\n",
       "      <th>rbf</th>\n",
       "      <td>0.403303</td>\n",
       "      <td>0.017745</td>\n",
       "    </tr>\n",
       "    <tr>\n",
       "      <th>linear</th>\n",
       "      <td>0.919866</td>\n",
       "      <td>0.013133</td>\n",
       "    </tr>\n",
       "    <tr>\n",
       "      <th rowspan=\"2\" valign=\"top\">30</th>\n",
       "      <th>rbf</th>\n",
       "      <td>0.371073</td>\n",
       "      <td>0.022078</td>\n",
       "    </tr>\n",
       "    <tr>\n",
       "      <th>linear</th>\n",
       "      <td>0.919866</td>\n",
       "      <td>0.013133</td>\n",
       "    </tr>\n",
       "    <tr>\n",
       "      <th rowspan=\"2\" valign=\"top\">100</th>\n",
       "      <th>rbf</th>\n",
       "      <td>0.369197</td>\n",
       "      <td>0.023116</td>\n",
       "    </tr>\n",
       "    <tr>\n",
       "      <th>linear</th>\n",
       "      <td>0.919866</td>\n",
       "      <td>0.013133</td>\n",
       "    </tr>\n",
       "    <tr>\n",
       "      <th rowspan=\"10\" valign=\"top\">100</th>\n",
       "      <th rowspan=\"2\" valign=\"top\">1</th>\n",
       "      <th>rbf</th>\n",
       "      <td>0.410094</td>\n",
       "      <td>0.018849</td>\n",
       "    </tr>\n",
       "    <tr>\n",
       "      <th>linear</th>\n",
       "      <td>0.919866</td>\n",
       "      <td>0.013133</td>\n",
       "    </tr>\n",
       "    <tr>\n",
       "      <th rowspan=\"2\" valign=\"top\">3</th>\n",
       "      <th>rbf</th>\n",
       "      <td>0.407220</td>\n",
       "      <td>0.020573</td>\n",
       "    </tr>\n",
       "    <tr>\n",
       "      <th>linear</th>\n",
       "      <td>0.919866</td>\n",
       "      <td>0.013133</td>\n",
       "    </tr>\n",
       "    <tr>\n",
       "      <th rowspan=\"2\" valign=\"top\">10</th>\n",
       "      <th>rbf</th>\n",
       "      <td>0.403303</td>\n",
       "      <td>0.017745</td>\n",
       "    </tr>\n",
       "    <tr>\n",
       "      <th>linear</th>\n",
       "      <td>0.919866</td>\n",
       "      <td>0.013133</td>\n",
       "    </tr>\n",
       "    <tr>\n",
       "      <th rowspan=\"2\" valign=\"top\">30</th>\n",
       "      <th>rbf</th>\n",
       "      <td>0.371073</td>\n",
       "      <td>0.022078</td>\n",
       "    </tr>\n",
       "    <tr>\n",
       "      <th>linear</th>\n",
       "      <td>0.919866</td>\n",
       "      <td>0.013133</td>\n",
       "    </tr>\n",
       "    <tr>\n",
       "      <th rowspan=\"2\" valign=\"top\">100</th>\n",
       "      <th>rbf</th>\n",
       "      <td>0.369197</td>\n",
       "      <td>0.023116</td>\n",
       "    </tr>\n",
       "    <tr>\n",
       "      <th>linear</th>\n",
       "      <td>0.919866</td>\n",
       "      <td>0.013133</td>\n",
       "    </tr>\n",
       "  </tbody>\n",
       "</table>\n",
       "</div>"
      ],
      "text/plain": [
       "                                                    MEAN Validação  STD Validação\n",
       "classifier__C classifier__gamma classifier__kernel                               \n",
       "1             1                 rbf                       0.406736       0.015533\n",
       "                                linear                    0.919866       0.013133\n",
       "              3                 rbf                       0.399586       0.025815\n",
       "                                linear                    0.919866       0.013133\n",
       "              10                rbf                       0.376220       0.025921\n",
       "                                linear                    0.919866       0.013133\n",
       "              30                rbf                       0.371601       0.021893\n",
       "                                linear                    0.919866       0.013133\n",
       "              100               rbf                       0.369197       0.023116\n",
       "                                linear                    0.919866       0.013133\n",
       "3             1                 rbf                       0.411237       0.018192\n",
       "                                linear                    0.919866       0.013133\n",
       "              3                 rbf                       0.408922       0.019776\n",
       "                                linear                    0.919866       0.013133\n",
       "              10                rbf                       0.404434       0.017131\n",
       "                                linear                    0.919866       0.013133\n",
       "              30                rbf                       0.371073       0.022078\n",
       "                                linear                    0.919866       0.013133\n",
       "              100               rbf                       0.369197       0.023116\n",
       "                                linear                    0.919866       0.013133\n",
       "10            1                 rbf                       0.411237       0.018192\n",
       "                                linear                    0.919866       0.013133\n",
       "              3                 rbf                       0.408347       0.019984\n",
       "                                linear                    0.919866       0.013133\n",
       "              10                rbf                       0.403303       0.017745\n",
       "                                linear                    0.919866       0.013133\n",
       "              30                rbf                       0.371073       0.022078\n",
       "                                linear                    0.919866       0.013133\n",
       "              100               rbf                       0.369197       0.023116\n",
       "                                linear                    0.919866       0.013133\n",
       "30            1                 rbf                       0.411237       0.018192\n",
       "                                linear                    0.919866       0.013133\n",
       "              3                 rbf                       0.407220       0.020573\n",
       "                                linear                    0.919866       0.013133\n",
       "              10                rbf                       0.403303       0.017745\n",
       "                                linear                    0.919866       0.013133\n",
       "              30                rbf                       0.371073       0.022078\n",
       "                                linear                    0.919866       0.013133\n",
       "              100               rbf                       0.369197       0.023116\n",
       "                                linear                    0.919866       0.013133\n",
       "100           1                 rbf                       0.410094       0.018849\n",
       "                                linear                    0.919866       0.013133\n",
       "              3                 rbf                       0.407220       0.020573\n",
       "                                linear                    0.919866       0.013133\n",
       "              10                rbf                       0.403303       0.017745\n",
       "                                linear                    0.919866       0.013133\n",
       "              30                rbf                       0.371073       0.022078\n",
       "                                linear                    0.919866       0.013133\n",
       "              100               rbf                       0.369197       0.023116\n",
       "                                linear                    0.919866       0.013133"
      ]
     },
     "metadata": {},
     "output_type": "display_data"
    }
   ],
   "source": [
    "results(grid_rf)"
   ]
  },
  {
   "cell_type": "markdown",
   "metadata": {},
   "source": [
    "##### 4.2 Naive-Bayes Multinomial"
   ]
  },
  {
   "cell_type": "code",
   "execution_count": 168,
   "metadata": {},
   "outputs": [],
   "source": [
    "model_nb = MultinomialNB()\n",
    "param_nb = {'classifier__alpha':[0.1, 0.3, 1, 3, 10]}\n",
    "\n",
    "grid_nb = evaluation(model_nb, param_nb, X_train_complete, y_train)"
   ]
  },
  {
   "cell_type": "code",
   "execution_count": 169,
   "metadata": {},
   "outputs": [
    {
     "name": "stdout",
     "output_type": "stream",
     "text": [
      "MELHORES PARÂMETROS:\n",
      "--> classifier__alpha: 1\n"
     ]
    },
    {
     "data": {
      "text/html": [
       "<div>\n",
       "<style scoped>\n",
       "    .dataframe tbody tr th:only-of-type {\n",
       "        vertical-align: middle;\n",
       "    }\n",
       "\n",
       "    .dataframe tbody tr th {\n",
       "        vertical-align: top;\n",
       "    }\n",
       "\n",
       "    .dataframe thead th {\n",
       "        text-align: right;\n",
       "    }\n",
       "</style>\n",
       "<table border=\"1\" class=\"dataframe\">\n",
       "  <thead>\n",
       "    <tr style=\"text-align: right;\">\n",
       "      <th></th>\n",
       "      <th>MEAN Validação</th>\n",
       "      <th>STD Validação</th>\n",
       "    </tr>\n",
       "    <tr>\n",
       "      <th>classifier__alpha</th>\n",
       "      <th></th>\n",
       "      <th></th>\n",
       "    </tr>\n",
       "  </thead>\n",
       "  <tbody>\n",
       "    <tr>\n",
       "      <th>0.1</th>\n",
       "      <td>0.896178</td>\n",
       "      <td>0.018813</td>\n",
       "    </tr>\n",
       "    <tr>\n",
       "      <th>0.3</th>\n",
       "      <td>0.895758</td>\n",
       "      <td>0.020680</td>\n",
       "    </tr>\n",
       "    <tr>\n",
       "      <th>1.0</th>\n",
       "      <td>0.897557</td>\n",
       "      <td>0.018434</td>\n",
       "    </tr>\n",
       "    <tr>\n",
       "      <th>3.0</th>\n",
       "      <td>0.895738</td>\n",
       "      <td>0.018705</td>\n",
       "    </tr>\n",
       "    <tr>\n",
       "      <th>10.0</th>\n",
       "      <td>0.897515</td>\n",
       "      <td>0.019401</td>\n",
       "    </tr>\n",
       "  </tbody>\n",
       "</table>\n",
       "</div>"
      ],
      "text/plain": [
       "                   MEAN Validação  STD Validação\n",
       "classifier__alpha                               \n",
       "0.1                      0.896178       0.018813\n",
       "0.3                      0.895758       0.020680\n",
       "1.0                      0.897557       0.018434\n",
       "3.0                      0.895738       0.018705\n",
       "10.0                     0.897515       0.019401"
      ]
     },
     "metadata": {},
     "output_type": "display_data"
    }
   ],
   "source": [
    "results(grid_nb)"
   ]
  },
  {
   "cell_type": "markdown",
   "metadata": {},
   "source": [
    "Training the models with hyperparameters tuned in the whole training set:"
   ]
  },
  {
   "cell_type": "code",
   "execution_count": 170,
   "metadata": {},
   "outputs": [
    {
     "data": {
      "text/plain": [
       "Pipeline(memory=None,\n",
       "         steps=[('scaler',\n",
       "                 StandardScaler(copy=True, with_mean=False, with_std=True)),\n",
       "                ('classifier',\n",
       "                 SVC(C=1, cache_size=200, class_weight=None, coef0=0.0,\n",
       "                     decision_function_shape='ovr', degree=3,\n",
       "                     gamma='auto_deprecated', kernel='linear', max_iter=-1,\n",
       "                     probability=False, random_state=99, shrinking=True,\n",
       "                     tol=0.001, verbose=False))],\n",
       "         verbose=False)"
      ]
     },
     "execution_count": 170,
     "metadata": {},
     "output_type": "execute_result"
    }
   ],
   "source": [
    "model_svm = SVC(C=1, kernel='linear', random_state=99)\n",
    "svm = Pipeline(steps=[('scaler', StandardScaler(with_mean=False)),\n",
    "                      ('classifier', model_svm)])\n",
    "svm.fit(X_train_complete, y_train)"
   ]
  },
  {
   "cell_type": "code",
   "execution_count": 171,
   "metadata": {},
   "outputs": [
    {
     "data": {
      "text/plain": [
       "Pipeline(memory=None,\n",
       "         steps=[('scaler',\n",
       "                 StandardScaler(copy=True, with_mean=False, with_std=True)),\n",
       "                ('classifier',\n",
       "                 MultinomialNB(alpha=1.0, class_prior=None, fit_prior=True))],\n",
       "         verbose=False)"
      ]
     },
     "execution_count": 171,
     "metadata": {},
     "output_type": "execute_result"
    }
   ],
   "source": [
    "model_nb = MultinomialNB(alpha=1.0)\n",
    "nb = Pipeline(steps=[('scaler', StandardScaler(with_mean=False)),\n",
    "                      ('classifier', model_nb)])\n",
    "nb.fit(X_train_complete, y_train)"
   ]
  },
  {
   "cell_type": "markdown",
   "metadata": {},
   "source": [
    "### 5 - Building a Neural Network"
   ]
  },
  {
   "cell_type": "code",
   "execution_count": 176,
   "metadata": {},
   "outputs": [
    {
     "name": "stdout",
     "output_type": "stream",
     "text": [
      "_________________________________________________________________\n",
      "Layer (type)                 Output Shape              Param #   \n",
      "=================================================================\n",
      "dense_10 (Dense)             (None, 128)               957184    \n",
      "_________________________________________________________________\n",
      "dense_11 (Dense)             (None, 64)                8256      \n",
      "_________________________________________________________________\n",
      "dense_12 (Dense)             (None, 1)                 65        \n",
      "=================================================================\n",
      "Total params: 965,505\n",
      "Trainable params: 965,505\n",
      "Non-trainable params: 0\n",
      "_________________________________________________________________\n"
     ]
    }
   ],
   "source": [
    "nn = Sequential()\n",
    "nn.add(Dense(128, activation='relu', input_dim=X_train_complete.shape[1]))\n",
    "nn.add(Dense(64, activation='relu'))\n",
    "nn.add(Dense(1, activation='sigmoid'))\n",
    "\n",
    "nn.compile(loss='binary_crossentropy', optimizer='adam', metrics=['acc'])\n",
    "nn.summary()"
   ]
  },
  {
   "cell_type": "code",
   "execution_count": 177,
   "metadata": {},
   "outputs": [
    {
     "name": "stderr",
     "output_type": "stream",
     "text": [
      "W0726 21:01:36.802054 19116 deprecation_wrapper.py:119] From C:\\Users\\gluz9\\Anaconda3\\lib\\site-packages\\keras\\backend\\tensorflow_backend.py:986: The name tf.assign_add is deprecated. Please use tf.compat.v1.assign_add instead.\n",
      "\n"
     ]
    },
    {
     "name": "stdout",
     "output_type": "stream",
     "text": [
      "Epoch 1/10\n",
      "4179/4179 [==============================] - 4s 924us/step - loss: 0.3641 - acc: 0.9009\n",
      "Epoch 2/10\n",
      "4179/4179 [==============================] - 3s 794us/step - loss: 0.1106 - acc: 0.9672\n",
      "Epoch 3/10\n",
      "4179/4179 [==============================] - 3s 802us/step - loss: 0.0759 - acc: 0.9756\n",
      "Epoch 4/10\n",
      "4179/4179 [==============================] - 3s 802us/step - loss: 0.0465 - acc: 0.9866\n",
      "Epoch 5/10\n",
      "4179/4179 [==============================] - 3s 807us/step - loss: 0.0306 - acc: 0.9921\n",
      "Epoch 6/10\n",
      "4179/4179 [==============================] - 3s 780us/step - loss: 0.0314 - acc: 0.9914\n",
      "Epoch 7/10\n",
      "4179/4179 [==============================] - 3s 819us/step - loss: 0.0150 - acc: 0.9962\n",
      "Epoch 8/10\n",
      "4179/4179 [==============================] - 3s 817us/step - loss: 0.0136 - acc: 0.9966\n",
      "Epoch 9/10\n",
      "4179/4179 [==============================] - 3s 793us/step - loss: 0.0128 - acc: 0.9966\n",
      "Epoch 10/10\n",
      "4179/4179 [==============================] - 3s 832us/step - loss: 0.0047 - acc: 0.9995\n"
     ]
    },
    {
     "data": {
      "text/plain": [
       "<keras.callbacks.History at 0x18e004f6a90>"
      ]
     },
     "execution_count": 177,
     "metadata": {},
     "output_type": "execute_result"
    }
   ],
   "source": [
    "nn.fit(X_train_complete, y_train, epochs=10)"
   ]
  },
  {
   "cell_type": "markdown",
   "metadata": {},
   "source": [
    "### 6 - Model Evaluation\n",
    "\n",
    "Now it is time to evaluate each one of the built models in order to select one of them for this particular task. It is necessary to remeber that we need to look for suitable metrics such as recall, f1-score and precision, since the accuracy may be biased due to data imbalance."
   ]
  },
  {
   "cell_type": "code",
   "execution_count": 213,
   "metadata": {},
   "outputs": [],
   "source": [
    "def metrics(model, X, y):\n",
    "    try:\n",
    "        y_pred = model.predict_classes(X)\n",
    "    except:\n",
    "        y_pred = model.predict(X)\n",
    "    \n",
    "    print('--> Confusion Matrix:')\n",
    "    confusion = pd.DataFrame(confusion_matrix(y, y_pred))\n",
    "    confusion.index = ['True Negative', 'True Positive']\n",
    "    confusion.columns = ['Predicted Negative', 'Predicted Positive']\n",
    "    display(confusion)\n",
    "    \n",
    "    print('\\n--> Classification Report\\n')\n",
    "    print(classification_report(y, y_pred, digits=3))\n",
    "    \n",
    "def roc_auc_curve_proba(model, model_name, metric_name, X, y):\n",
    "    if model_name=='SVM':\n",
    "        y_pred = model.decision_function(X)\n",
    "    else:\n",
    "        try:\n",
    "            y_pred = model.predict_proba(X)[:,1]\n",
    "        except:\n",
    "            y_pred = model.predict(X)\n",
    "\n",
    "    fpr, tpr, _ = roc_curve(y, y_pred)\n",
    "    roc_auc = auc(fpr, tpr)\n",
    "    \n",
    "    fig, (ax1, ax2) = plt.subplots(1, 2, figsize=(15,6))\n",
    "    lw = 2\n",
    "    ax1.plot(fpr, tpr, color='darkorange',\n",
    "             lw=lw, label= model_name + ' (AUC = %0.3f)' % roc_auc)\n",
    "    ax1.plot([0, 1], [0, 1], color='navy', lw=lw, linestyle='--')\n",
    "    ax1.set_xlim([0.0, 1.0])\n",
    "    ax1.set_ylim([0.0, 1.0])\n",
    "    ax1.set_xlabel('False Positive Rate', fontsize=12)\n",
    "    ax1.set_ylabel('True Positive Rate', fontsize=12)\n",
    "    ax1.set_title('ROC Curve - ' + metric_name + ' as parameter tuning score')\n",
    "    ax1.legend(loc=\"lower right\", fontsize=12)\n",
    "    \n",
    "    precision, recall, _ = precision_recall_curve(y, y_pred) \n",
    "    \n",
    "    ax2.plot(recall, precision, color='darkorange',\n",
    "             lw=lw, label= model_name)\n",
    "    ax2.set_xlim([0.0, 1.0])\n",
    "    ax2.set_ylim([0.0, 1.0])\n",
    "    ax2.set_xlabel('Recall', fontsize=12)\n",
    "    ax2.set_ylabel('Precision', fontsize=12)\n",
    "    ax2.set_title('Precision-Recall Curve - ' + metric_name + ' as parameter tuning score')\n",
    "    ax2.legend(loc=\"lower left\", fontsize=12)\n",
    "    plt.show()"
   ]
  },
  {
   "cell_type": "markdown",
   "metadata": {},
   "source": [
    "We should also remember to apply the same transformations to the test dataset."
   ]
  },
  {
   "cell_type": "code",
   "execution_count": 198,
   "metadata": {},
   "outputs": [
    {
     "data": {
      "text/plain": [
       "<1393x7475 sparse matrix of type '<class 'numpy.float64'>'\n",
       "\twith 23528 stored elements in Compressed Sparse Row format>"
      ]
     },
     "execution_count": 198,
     "metadata": {},
     "output_type": "execute_result"
    }
   ],
   "source": [
    "X_test_vect = tfidf.transform(X_test['Text'])\n",
    "X_test_vect"
   ]
  },
  {
   "cell_type": "code",
   "execution_count": 199,
   "metadata": {},
   "outputs": [
    {
     "data": {
      "text/plain": [
       "<1393x7477 sparse matrix of type '<class 'numpy.float64'>'\n",
       "\twith 26198 stored elements in Compressed Sparse Row format>"
      ]
     },
     "execution_count": 199,
     "metadata": {},
     "output_type": "execute_result"
    }
   ],
   "source": [
    "X_test_complete = add_feature(X_test_vect, [X_test['Length'], X_test['Non-words']])\n",
    "X_test_complete"
   ]
  },
  {
   "cell_type": "markdown",
   "metadata": {},
   "source": [
    "#### 6.1 SVM"
   ]
  },
  {
   "cell_type": "code",
   "execution_count": 200,
   "metadata": {},
   "outputs": [
    {
     "name": "stdout",
     "output_type": "stream",
     "text": [
      "--> Confusion Matrix:\n"
     ]
    },
    {
     "data": {
      "text/html": [
       "<div>\n",
       "<style scoped>\n",
       "    .dataframe tbody tr th:only-of-type {\n",
       "        vertical-align: middle;\n",
       "    }\n",
       "\n",
       "    .dataframe tbody tr th {\n",
       "        vertical-align: top;\n",
       "    }\n",
       "\n",
       "    .dataframe thead th {\n",
       "        text-align: right;\n",
       "    }\n",
       "</style>\n",
       "<table border=\"1\" class=\"dataframe\">\n",
       "  <thead>\n",
       "    <tr style=\"text-align: right;\">\n",
       "      <th></th>\n",
       "      <th>Predicted Negative</th>\n",
       "      <th>Predicted Positive</th>\n",
       "    </tr>\n",
       "  </thead>\n",
       "  <tbody>\n",
       "    <tr>\n",
       "      <th>True Negative</th>\n",
       "      <td>1199</td>\n",
       "      <td>3</td>\n",
       "    </tr>\n",
       "    <tr>\n",
       "      <th>True Positive</th>\n",
       "      <td>19</td>\n",
       "      <td>172</td>\n",
       "    </tr>\n",
       "  </tbody>\n",
       "</table>\n",
       "</div>"
      ],
      "text/plain": [
       "               Predicted Negative  Predicted Positive\n",
       "True Negative                1199                   3\n",
       "True Positive                  19                 172"
      ]
     },
     "metadata": {},
     "output_type": "display_data"
    },
    {
     "name": "stdout",
     "output_type": "stream",
     "text": [
      "\n",
      "--> Classification Report\n",
      "\n",
      "              precision    recall  f1-score   support\n",
      "\n",
      "           0      0.984     0.998     0.991      1202\n",
      "           1      0.983     0.901     0.940       191\n",
      "\n",
      "    accuracy                          0.984      1393\n",
      "   macro avg      0.984     0.949     0.965      1393\n",
      "weighted avg      0.984     0.984     0.984      1393\n",
      "\n"
     ]
    }
   ],
   "source": [
    "metrics(svm, X_test_complete, y_test)"
   ]
  },
  {
   "cell_type": "code",
   "execution_count": 201,
   "metadata": {},
   "outputs": [
    {
     "data": {
      "image/png": "[encoded data removed]",
      "text/plain": [
       "<Figure size 1080x432 with 2 Axes>"
      ]
     },
     "metadata": {
      "needs_background": "light"
     },
     "output_type": "display_data"
    }
   ],
   "source": [
    "roc_auc_curve_proba(svm, 'SVM', 'F1-Score', X_test_complete, y_test)"
   ]
  },
  {
   "cell_type": "markdown",
   "metadata": {},
   "source": [
    "#### 6.2 Multinomial NB"
   ]
  },
  {
   "cell_type": "code",
   "execution_count": 203,
   "metadata": {},
   "outputs": [
    {
     "name": "stdout",
     "output_type": "stream",
     "text": [
      "--> Confusion Matrix:\n"
     ]
    },
    {
     "data": {
      "text/html": [
       "<div>\n",
       "<style scoped>\n",
       "    .dataframe tbody tr th:only-of-type {\n",
       "        vertical-align: middle;\n",
       "    }\n",
       "\n",
       "    .dataframe tbody tr th {\n",
       "        vertical-align: top;\n",
       "    }\n",
       "\n",
       "    .dataframe thead th {\n",
       "        text-align: right;\n",
       "    }\n",
       "</style>\n",
       "<table border=\"1\" class=\"dataframe\">\n",
       "  <thead>\n",
       "    <tr style=\"text-align: right;\">\n",
       "      <th></th>\n",
       "      <th>Predicted Negative</th>\n",
       "      <th>Predicted Positive</th>\n",
       "    </tr>\n",
       "  </thead>\n",
       "  <tbody>\n",
       "    <tr>\n",
       "      <th>True Negative</th>\n",
       "      <td>1182</td>\n",
       "      <td>20</td>\n",
       "    </tr>\n",
       "    <tr>\n",
       "      <th>True Positive</th>\n",
       "      <td>13</td>\n",
       "      <td>178</td>\n",
       "    </tr>\n",
       "  </tbody>\n",
       "</table>\n",
       "</div>"
      ],
      "text/plain": [
       "               Predicted Negative  Predicted Positive\n",
       "True Negative                1182                  20\n",
       "True Positive                  13                 178"
      ]
     },
     "metadata": {},
     "output_type": "display_data"
    },
    {
     "name": "stdout",
     "output_type": "stream",
     "text": [
      "\n",
      "--> Classification Report\n",
      "\n",
      "              precision    recall  f1-score   support\n",
      "\n",
      "           0      0.989     0.983     0.986      1202\n",
      "           1      0.899     0.932     0.915       191\n",
      "\n",
      "    accuracy                          0.976      1393\n",
      "   macro avg      0.944     0.958     0.951      1393\n",
      "weighted avg      0.977     0.976     0.976      1393\n",
      "\n"
     ]
    }
   ],
   "source": [
    "metrics(nb, X_test_complete, y_test)"
   ]
  },
  {
   "cell_type": "code",
   "execution_count": 206,
   "metadata": {},
   "outputs": [
    {
     "data": {
      "image/png": "[encoded data removed]",
      "text/plain": [
       "<Figure size 1080x432 with 2 Axes>"
      ]
     },
     "metadata": {
      "needs_background": "light"
     },
     "output_type": "display_data"
    }
   ],
   "source": [
    "roc_auc_curve_proba(nb, 'Multinomial NB', 'F1-Score', X_test_complete, y_test)"
   ]
  },
  {
   "cell_type": "markdown",
   "metadata": {},
   "source": [
    "#### 6.3 Neural Network"
   ]
  },
  {
   "cell_type": "code",
   "execution_count": 209,
   "metadata": {},
   "outputs": [
    {
     "name": "stdout",
     "output_type": "stream",
     "text": [
      "--> Confusion Matrix:\n"
     ]
    },
    {
     "data": {
      "text/html": [
       "<div>\n",
       "<style scoped>\n",
       "    .dataframe tbody tr th:only-of-type {\n",
       "        vertical-align: middle;\n",
       "    }\n",
       "\n",
       "    .dataframe tbody tr th {\n",
       "        vertical-align: top;\n",
       "    }\n",
       "\n",
       "    .dataframe thead th {\n",
       "        text-align: right;\n",
       "    }\n",
       "</style>\n",
       "<table border=\"1\" class=\"dataframe\">\n",
       "  <thead>\n",
       "    <tr style=\"text-align: right;\">\n",
       "      <th></th>\n",
       "      <th>Predicted Negative</th>\n",
       "      <th>Predicted Positive</th>\n",
       "    </tr>\n",
       "  </thead>\n",
       "  <tbody>\n",
       "    <tr>\n",
       "      <th>True Negative</th>\n",
       "      <td>1196</td>\n",
       "      <td>6</td>\n",
       "    </tr>\n",
       "    <tr>\n",
       "      <th>True Positive</th>\n",
       "      <td>11</td>\n",
       "      <td>180</td>\n",
       "    </tr>\n",
       "  </tbody>\n",
       "</table>\n",
       "</div>"
      ],
      "text/plain": [
       "               Predicted Negative  Predicted Positive\n",
       "True Negative                1196                   6\n",
       "True Positive                  11                 180"
      ]
     },
     "metadata": {},
     "output_type": "display_data"
    },
    {
     "name": "stdout",
     "output_type": "stream",
     "text": [
      "\n",
      "--> Classification Report\n",
      "\n",
      "              precision    recall  f1-score   support\n",
      "\n",
      "           0      0.991     0.995     0.993      1202\n",
      "           1      0.968     0.942     0.955       191\n",
      "\n",
      "    accuracy                          0.988      1393\n",
      "   macro avg      0.979     0.969     0.974      1393\n",
      "weighted avg      0.988     0.988     0.988      1393\n",
      "\n"
     ]
    }
   ],
   "source": [
    "metrics(nn, X_test_complete, y_test)"
   ]
  },
  {
   "cell_type": "code",
   "execution_count": 214,
   "metadata": {},
   "outputs": [
    {
     "data": {
      "image/png": "[encoded data removed]",
      "text/plain": [
       "<Figure size 1080x432 with 2 Axes>"
      ]
     },
     "metadata": {
      "needs_background": "light"
     },
     "output_type": "display_data"
    }
   ],
   "source": [
    "roc_auc_curve_proba(nn, 'Neural Network', 'F1-Score', X_test_complete, y_test)"
   ]
  },
  {
   "cell_type": "markdown",
   "metadata": {},
   "source": [
    "Comparing ROC curve among all available methods:"
   ]
  },
  {
   "cell_type": "code",
   "execution_count": 217,
   "metadata": {},
   "outputs": [
    {
     "data": {
      "image/png": "[encoded data removed]",
      "text/plain": [
       "<Figure size 1080x720 with 1 Axes>"
      ]
     },
     "metadata": {
      "needs_background": "light"
     },
     "output_type": "display_data"
    }
   ],
   "source": [
    "metric_name = 'F1-Score'\n",
    "\n",
    "fig, ax1 = plt.subplots(1, 1, figsize=(15,10))\n",
    "\n",
    "model_name = 'SVM'\n",
    "y_pred = svm.decision_function(X_test_complete)\n",
    "fpr, tpr, _ = roc_curve(y_test, y_pred)\n",
    "roc_auc = auc(fpr, tpr)\n",
    "lw = 3\n",
    "ax1.plot(fpr, tpr, color='green', linestyle=':',\n",
    "         lw=lw, label= model_name + ' (AUC = %0.3f)' % roc_auc)\n",
    "\n",
    "model_name = 'Multinomial NB'\n",
    "y_pred = nb.predict_proba(X_test_complete)[:,1]\n",
    "fpr, tpr, _ = roc_curve(y_test, y_pred)\n",
    "roc_auc = auc(fpr, tpr)\n",
    "lw = 3\n",
    "ax1.plot(fpr, tpr, color='red', linestyle='-.',\n",
    "         lw=lw, label= model_name + ' (AUC = %0.3f)' % roc_auc)\n",
    "\n",
    "model_name = 'Neural Network'\n",
    "y_pred = nn.predict(X_test_complete)\n",
    "fpr, tpr, _ = roc_curve(y_test, y_pred)\n",
    "roc_auc = auc(fpr, tpr)\n",
    "lw = 3\n",
    "ax1.plot(fpr, tpr, color='navy', linestyle='-.',\n",
    "         lw=lw, label= model_name + ' (AUC = %0.3f)' % roc_auc)\n",
    "\n",
    "\n",
    "ax1.plot([0, 1], [0, 1], color='black', lw=lw, linestyle='--')\n",
    "ax1.set_xlim([0.0, 1.0])\n",
    "ax1.set_ylim([0.0, 1.0])\n",
    "ax1.set_xlabel('False Positive Rate', fontsize=14)\n",
    "ax1.set_ylabel('True Positive Rate', fontsize=14)\n",
    "ax1.set_title('ROC Curve - ' + metric_name + ' as parameter tuning score', fontsize=17)\n",
    "leg = ax1.legend(loc=\"lower right\", fontsize=14)\n",
    "for tick in ax1.xaxis.get_major_ticks():\n",
    "        tick.label.set_fontsize(14)\n",
    "for tick in ax1.yaxis.get_major_ticks():\n",
    "        tick.label.set_fontsize(14)\n",
    "leg.get_frame().set_edgecolor('black')\n",
    "\n",
    "plt.show()"
   ]
  },
  {
   "cell_type": "markdown",
   "metadata": {},
   "source": [
    "### 7 - Conclusion"
   ]
  },
  {
   "cell_type": "markdown",
   "metadata": {},
   "source": [
    "As we can see from data above, we can select the designed **Neural Network** as the best model for the proposed problem, since it presents the best overall performance, especially if we take into account the recall score. In a problem such spam classification, it is more important to avoid false negatives than to correctly predict a non-spam message, once the user does not want to receive any messages filtered as spam.\n",
    "\n",
    "However, if we think about model simplicity and interpretability, a linear SVM is also a good choice in comparison to a neural network.\n",
    "\n",
    "Finally, it is possible to realize that our hypothesis about important features in a spam classification problem were suitable, since it has lead us to satisfactory results in the test set."
   ]
  },
  {
   "cell_type": "markdown",
   "metadata": {},
   "source": [
    "\n",
    "I hope you have enjoyed this project!!\n",
    "\n",
    "**Gabriel Fernandes Luz**  \n",
    "gfluz94@gmail.com"
   ]
  },
  {
   "cell_type": "code",
   "execution_count": null,
   "metadata": {},
   "outputs": [],
   "source": []
  }
 ],
 "metadata": {
  "kernelspec": {
   "display_name": "Python 3",
   "language": "python",
   "name": "python3"
  },
  "language_info": {
   "codemirror_mode": {
    "name": "ipython",
    "version": 3
   },
   "file_extension": ".py",
   "mimetype": "text/x-python",
   "name": "python",
   "nbconvert_exporter": "python",
   "pygments_lexer": "ipython3",
   "version": "3.7.1"
  }
 },
 "nbformat": 4,
 "nbformat_minor": 2
}
